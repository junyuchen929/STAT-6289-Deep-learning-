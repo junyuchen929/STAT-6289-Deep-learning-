{
 "cells": [
  {
   "cell_type": "code",
   "execution_count": 3,
   "id": "575b07cd",
   "metadata": {},
   "outputs": [],
   "source": [
    "import numpy as np\n",
    "import keras\n",
    "from keras import layers\n",
    "from keras.layers import Input, Dense, Activation, ZeroPadding2D, BatchNormalization, Flatten, Conv2D\n",
    "from keras.layers import AveragePooling2D, MaxPooling2D, Dropout, GlobalMaxPooling2D, GlobalAveragePooling2D\n",
    "from keras.models import Model\n",
    "from keras.preprocessing import image\n",
    "from keras.applications.imagenet_utils import preprocess_input\n",
    "import pydot\n",
    "from IPython.display import SVG\n",
    "from keras.utils import plot_model\n",
    "import h5py\n",
    "import keras.backend as K\n",
    "K.set_image_data_format('channels_last')\n",
    "import matplotlib.pyplot as plt\n",
    "from matplotlib.pyplot import imshow\n",
    "from keras.datasets import cifar10\n",
    "from keras.preprocessing.image import ImageDataGenerator\n",
    "from keras.models import Sequential\n",
    "from keras.layers import Dense, Dropout, Activation, Flatten\n",
    "from keras.layers import Conv2D, MaxPooling2D\n"
   ]
  },
  {
   "cell_type": "code",
   "execution_count": 6,
   "id": "450b3b0c",
   "metadata": {},
   "outputs": [],
   "source": [
    "def load_dataset():\n",
    "    train_dataset = h5py.File('train_happy.h5', \"r\")\n",
    "    train_set_x_orig = np.array(train_dataset[\"train_set_x\"][:]) # your train set features\n",
    "    train_set_y_orig = np.array(train_dataset[\"train_set_y\"][:]) # your train set labels\n",
    "\n",
    "    test_dataset = h5py.File('test_happy.h5', \"r\")\n",
    "    test_set_x_orig = np.array(test_dataset[\"test_set_x\"][:]) # your test set features\n",
    "    test_set_y_orig = np.array(test_dataset[\"test_set_y\"][:]) # your test set labels\n",
    "\n",
    "    classes = np.array(test_dataset[\"list_classes\"][:]) # the list of classes\n",
    "    \n",
    "    train_set_y_orig = train_set_y_orig.reshape((1, train_set_y_orig.shape[0]))\n",
    "    test_set_y_orig = test_set_y_orig.reshape((1, test_set_y_orig.shape[0]))\n",
    "    \n",
    "    return train_set_x_orig, train_set_y_orig, test_set_x_orig, test_set_y_orig, classes"
   ]
  },
  {
   "cell_type": "code",
   "execution_count": 7,
   "id": "b45b6b11",
   "metadata": {},
   "outputs": [
    {
     "name": "stdout",
     "output_type": "stream",
     "text": [
      "X_train shape: (600, 64, 64, 3)\n",
      "Y_train shape: (600, 1)\n",
      "X_test shape: (150, 64, 64, 3)\n",
      "Y_test shape: (150, 1)\n"
     ]
    }
   ],
   "source": [
    "X_train_orig, Y_train_orig, X_test_orig, Y_test_orig, classes = load_dataset()\n",
    "\n",
    "# Normalize image vectors\n",
    "x_train = X_train_orig/255.\n",
    "x_test = X_test_orig/255.\n",
    "\n",
    "# Reshape\n",
    "y_train = Y_train_orig.T\n",
    "y_test = Y_test_orig.T\n",
    "\n",
    "print (\"X_train shape: \" + str(x_train.shape))\n",
    "print (\"Y_train shape: \" + str(y_train.shape))\n",
    "print (\"X_test shape: \" + str(x_test.shape))\n",
    "print (\"Y_test shape: \" + str(y_test.shape))"
   ]
  },
  {
   "cell_type": "code",
   "execution_count": 8,
   "id": "6234bb5a",
   "metadata": {},
   "outputs": [],
   "source": [
    "def HappyModel(input_shape):\n",
    "\n",
    "    X_input = Input(input_shape)\n",
    "\n",
    "    X = ZeroPadding2D((3, 3))(X_input)   \n",
    "    X = Conv2D(32, (3, 3), strides = (1, 1), name = 'conv0')(X)\n",
    "    X = Activation('relu')(X)\n",
    "    X = MaxPooling2D((2, 2), name='max_pool')(X)\n",
    "    X = Dropout(0.025)(X)\n",
    "    X = Flatten()(X)\n",
    "    X = Dense(1, activation='sigmoid', name='fc')(X)\n",
    "    \n",
    "\n",
    "    model = Model(inputs=X_input, outputs=X, name='HappyModel')\n",
    "\n",
    "    return model"
   ]
  },
  {
   "cell_type": "code",
   "execution_count": 10,
   "id": "3711c010",
   "metadata": {},
   "outputs": [
    {
     "name": "stdout",
     "output_type": "stream",
     "text": [
      "Epoch 1/40\n",
      "19/19 [==============================] - 0s 15ms/step - loss: 0.8510 - accuracy: 0.5033 - val_loss: 0.6695 - val_accuracy: 0.5600\n",
      "Epoch 2/40\n",
      "19/19 [==============================] - 0s 12ms/step - loss: 0.6687 - accuracy: 0.5517 - val_loss: 0.6815 - val_accuracy: 0.4733\n",
      "Epoch 3/40\n",
      "19/19 [==============================] - 0s 12ms/step - loss: 0.6112 - accuracy: 0.7300 - val_loss: 0.5736 - val_accuracy: 0.7667\n",
      "Epoch 4/40\n",
      "19/19 [==============================] - 0s 12ms/step - loss: 0.5897 - accuracy: 0.6383 - val_loss: 0.6605 - val_accuracy: 0.5467\n",
      "Epoch 5/40\n",
      "19/19 [==============================] - 0s 12ms/step - loss: 0.4996 - accuracy: 0.7750 - val_loss: 0.4964 - val_accuracy: 0.7200\n",
      "Epoch 6/40\n",
      "19/19 [==============================] - 0s 12ms/step - loss: 0.4051 - accuracy: 0.8550 - val_loss: 0.4459 - val_accuracy: 0.7667\n",
      "Epoch 7/40\n",
      "19/19 [==============================] - 0s 12ms/step - loss: 0.3175 - accuracy: 0.8917 - val_loss: 0.4242 - val_accuracy: 0.7667\n",
      "Epoch 8/40\n",
      "19/19 [==============================] - 0s 12ms/step - loss: 0.3173 - accuracy: 0.8650 - val_loss: 0.3715 - val_accuracy: 0.8000\n",
      "Epoch 9/40\n",
      "19/19 [==============================] - 0s 13ms/step - loss: 0.2400 - accuracy: 0.9233 - val_loss: 0.2677 - val_accuracy: 0.9067\n",
      "Epoch 10/40\n",
      "19/19 [==============================] - 0s 13ms/step - loss: 0.1987 - accuracy: 0.9400 - val_loss: 0.2484 - val_accuracy: 0.9267\n",
      "Epoch 11/40\n",
      "19/19 [==============================] - 0s 12ms/step - loss: 0.1865 - accuracy: 0.9417 - val_loss: 0.2284 - val_accuracy: 0.9133\n",
      "Epoch 12/40\n",
      "19/19 [==============================] - 0s 12ms/step - loss: 0.1788 - accuracy: 0.9400 - val_loss: 0.2160 - val_accuracy: 0.9467\n",
      "Epoch 13/40\n",
      "19/19 [==============================] - 0s 13ms/step - loss: 0.1394 - accuracy: 0.9700 - val_loss: 0.1915 - val_accuracy: 0.9467\n",
      "Epoch 14/40\n",
      "19/19 [==============================] - 0s 13ms/step - loss: 0.1274 - accuracy: 0.9617 - val_loss: 0.2091 - val_accuracy: 0.9000\n",
      "Epoch 15/40\n",
      "19/19 [==============================] - 0s 13ms/step - loss: 0.1500 - accuracy: 0.9550 - val_loss: 0.2206 - val_accuracy: 0.9133\n",
      "Epoch 16/40\n",
      "19/19 [==============================] - 0s 13ms/step - loss: 0.1198 - accuracy: 0.9700 - val_loss: 0.2606 - val_accuracy: 0.8867\n",
      "Epoch 17/40\n",
      "19/19 [==============================] - 0s 13ms/step - loss: 0.1041 - accuracy: 0.9733 - val_loss: 0.1607 - val_accuracy: 0.9533\n",
      "Epoch 18/40\n",
      "19/19 [==============================] - 0s 13ms/step - loss: 0.0935 - accuracy: 0.9767 - val_loss: 0.1617 - val_accuracy: 0.9533\n",
      "Epoch 19/40\n",
      "19/19 [==============================] - 0s 13ms/step - loss: 0.0997 - accuracy: 0.9733 - val_loss: 0.1681 - val_accuracy: 0.9400\n",
      "Epoch 20/40\n",
      "19/19 [==============================] - 0s 13ms/step - loss: 0.1030 - accuracy: 0.9617 - val_loss: 0.1494 - val_accuracy: 0.9333\n",
      "Epoch 21/40\n",
      "19/19 [==============================] - 0s 13ms/step - loss: 0.1014 - accuracy: 0.9717 - val_loss: 0.1947 - val_accuracy: 0.9267\n",
      "Epoch 22/40\n",
      "19/19 [==============================] - 0s 13ms/step - loss: 0.0783 - accuracy: 0.9850 - val_loss: 0.1415 - val_accuracy: 0.9533\n",
      "Epoch 23/40\n",
      "19/19 [==============================] - 0s 13ms/step - loss: 0.0706 - accuracy: 0.9850 - val_loss: 0.1540 - val_accuracy: 0.9533\n",
      "Epoch 24/40\n",
      "19/19 [==============================] - 0s 13ms/step - loss: 0.0744 - accuracy: 0.9800 - val_loss: 0.1297 - val_accuracy: 0.9467\n",
      "Epoch 25/40\n",
      "19/19 [==============================] - 0s 13ms/step - loss: 0.0655 - accuracy: 0.9867 - val_loss: 0.1765 - val_accuracy: 0.9267\n",
      "Epoch 26/40\n",
      "19/19 [==============================] - 0s 13ms/step - loss: 0.0753 - accuracy: 0.9833 - val_loss: 0.1761 - val_accuracy: 0.9267\n",
      "Epoch 27/40\n",
      "19/19 [==============================] - 0s 13ms/step - loss: 0.0793 - accuracy: 0.9767 - val_loss: 0.1317 - val_accuracy: 0.9467\n",
      "Epoch 28/40\n",
      "19/19 [==============================] - 0s 13ms/step - loss: 0.0609 - accuracy: 0.9867 - val_loss: 0.1315 - val_accuracy: 0.9467\n",
      "Epoch 29/40\n",
      "19/19 [==============================] - 0s 13ms/step - loss: 0.0556 - accuracy: 0.9883 - val_loss: 0.1131 - val_accuracy: 0.9533\n",
      "Epoch 30/40\n",
      "19/19 [==============================] - 0s 13ms/step - loss: 0.0565 - accuracy: 0.9883 - val_loss: 0.1817 - val_accuracy: 0.9400\n",
      "Epoch 31/40\n",
      "19/19 [==============================] - 0s 13ms/step - loss: 0.0759 - accuracy: 0.9733 - val_loss: 0.1272 - val_accuracy: 0.9467\n",
      "Epoch 32/40\n",
      "19/19 [==============================] - 0s 13ms/step - loss: 0.0583 - accuracy: 0.9767 - val_loss: 0.1290 - val_accuracy: 0.9400\n",
      "Epoch 33/40\n",
      "19/19 [==============================] - 0s 13ms/step - loss: 0.0619 - accuracy: 0.9850 - val_loss: 0.1101 - val_accuracy: 0.9533\n",
      "Epoch 34/40\n",
      "19/19 [==============================] - 0s 13ms/step - loss: 0.0601 - accuracy: 0.9850 - val_loss: 0.1167 - val_accuracy: 0.9400\n",
      "Epoch 35/40\n",
      "19/19 [==============================] - 0s 13ms/step - loss: 0.0537 - accuracy: 0.9850 - val_loss: 0.1098 - val_accuracy: 0.9467\n",
      "Epoch 36/40\n",
      "19/19 [==============================] - 0s 13ms/step - loss: 0.0412 - accuracy: 0.9883 - val_loss: 0.1111 - val_accuracy: 0.9467\n",
      "Epoch 37/40\n",
      "19/19 [==============================] - 0s 13ms/step - loss: 0.0488 - accuracy: 0.9850 - val_loss: 0.1168 - val_accuracy: 0.9467\n",
      "Epoch 38/40\n",
      "19/19 [==============================] - 0s 13ms/step - loss: 0.0418 - accuracy: 0.9883 - val_loss: 0.1147 - val_accuracy: 0.9533\n",
      "Epoch 39/40\n",
      "19/19 [==============================] - 0s 13ms/step - loss: 0.0423 - accuracy: 0.9867 - val_loss: 0.1418 - val_accuracy: 0.9400\n",
      "Epoch 40/40\n",
      "19/19 [==============================] - 0s 13ms/step - loss: 0.0410 - accuracy: 0.9933 - val_loss: 0.1040 - val_accuracy: 0.9667\n"
     ]
    },
    {
     "data": {
      "text/plain": [
       "<keras.src.callbacks.History at 0x2883ad2d0>"
      ]
     },
     "execution_count": 10,
     "metadata": {},
     "output_type": "execute_result"
    }
   ],
   "source": [
    "happy_model = HappyModel(x_train.shape[1:])\n",
    "happy_model.compile(\"adam\",\"binary_crossentropy\", metrics=['accuracy'])\n",
    "happy_model.fit(x_train, y_train, epochs=40, batch_size=32,\n",
    "                validation_data=(x_test, y_test), shuffle=True)"
   ]
  },
  {
   "cell_type": "code",
   "execution_count": 11,
   "id": "57010fbf",
   "metadata": {},
   "outputs": [
    {
     "name": "stdout",
     "output_type": "stream",
     "text": [
      "1/1 [==============================] - 0s 30ms/step\n",
      "[[0.]]\n"
     ]
    },
    {
     "data": {
      "image/png": "[encoded data removed]",
      "text/plain": [
       "<Figure size 640x480 with 1 Axes>"
      ]
     },
     "metadata": {},
     "output_type": "display_data"
    }
   ],
   "source": [
    "img_path = 'cry.png'\n",
    "\n",
    "img = image.load_img(img_path, target_size=(64, 64))\n",
    "imshow(img)\n",
    "\n",
    "x = image.img_to_array(img)\n",
    "x = np.expand_dims(x, axis=0)\n",
    "x = preprocess_input(x)\n",
    "\n",
    "print(happy_model.predict(x))\n"
   ]
  },
  {
   "cell_type": "code",
   "execution_count": null,
   "id": "3fbab0b3",
   "metadata": {},
   "outputs": [],
   "source": []
  },
  {
   "cell_type": "code",
   "execution_count": null,
   "id": "5a137509",
   "metadata": {},
   "outputs": [],
   "source": []
  }
 ],
 "metadata": {
  "kernelspec": {
   "display_name": "Python 3 (ipykernel)",
   "language": "python",
   "name": "python3"
  },
  "language_info": {
   "codemirror_mode": {
    "name": "ipython",
    "version": 3
   },
   "file_extension": ".py",
   "mimetype": "text/x-python",
   "name": "python",
   "nbconvert_exporter": "python",
   "pygments_lexer": "ipython3",
   "version": "3.11.0"
  }
 },
 "nbformat": 4,
 "nbformat_minor": 5
}
