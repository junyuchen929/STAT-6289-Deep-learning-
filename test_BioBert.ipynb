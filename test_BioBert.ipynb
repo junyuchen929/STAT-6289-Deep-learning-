{
 "cells": [
  {
   "cell_type": "code",
   "execution_count": null,
   "id": "bf9fb128-b968-47d1-a63a-e71dff43ff23",
   "metadata": {},
   "outputs": [
    {
     "name": "stderr",
     "output_type": "stream",
     "text": [
      "Some weights of BertModel were not initialized from the model checkpoint at dmis-lab/biobert-large-cased-v1.1-squad and are newly initialized: ['bert.pooler.dense.weight', 'bert.pooler.dense.bias']\n",
      "You should probably TRAIN this model on a down-stream task to be able to use it for predictions and inference.\n",
      "Some weights of CustomBioBertForPipeline were not initialized from the model checkpoint at dmis-lab/biobert-large-cased-v1.1-squad and are newly initialized: ['bert.bio_bert.encoder.layer.9.output.dense.bias', 'bert.bio_bert.encoder.layer.17.attention.self.value.bias', 'bert.bio_bert.encoder.layer.12.attention.self.value.bias', 'bert.bio_bert.encoder.layer.15.attention.self.query.bias', 'bert.bio_bert.encoder.layer.4.attention.self.value.weight', 'bert.bio_bert.encoder.layer.16.attention.self.value.weight', 'bert.bio_bert.encoder.layer.22.attention.output.LayerNorm.bias', 'bert.bio_bert.encoder.layer.9.attention.self.value.weight', 'bert.bio_bert.encoder.layer.13.output.dense.bias', 'bert.bio_bert.encoder.layer.15.intermediate.dense.weight', 'bert.bio_bert.encoder.layer.14.attention.self.value.bias', 'bert.bio_bert.encoder.layer.21.output.LayerNorm.bias', 'bert.bio_bert.encoder.layer.21.attention.output.dense.weight', 'bert.bio_bert.encoder.layer.9.intermediate.dense.weight', 'bert.bio_bert.encoder.layer.17.output.dense.bias', 'bert.bio_bert.encoder.layer.3.attention.self.value.bias', 'bert.bio_bert.encoder.layer.15.attention.self.value.weight', 'bert.bio_bert.encoder.layer.8.attention.output.dense.bias', 'bert.bio_bert.encoder.layer.4.attention.output.LayerNorm.bias', 'bert.bio_bert.encoder.layer.10.intermediate.dense.bias', 'bert.bio_bert.encoder.layer.12.intermediate.dense.weight', 'bert.bio_bert.encoder.layer.1.intermediate.dense.weight', 'bert.bio_bert.encoder.layer.11.output.LayerNorm.weight', 'bert.bio_bert.embeddings.word_embeddings.weight', 'bert.bio_bert.encoder.layer.11.attention.output.dense.weight', 'bert.bio_bert.encoder.layer.17.attention.output.dense.bias', 'bert.bio_bert.encoder.layer.21.output.dense.bias', 'bert.bio_bert.encoder.layer.9.intermediate.dense.bias', 'bert.bio_bert.encoder.layer.19.attention.self.key.weight', 'bert.bio_bert.encoder.layer.4.intermediate.dense.bias', 'bert.bio_bert.encoder.layer.23.output.LayerNorm.weight', 'bert.bio_bert.encoder.layer.9.attention.self.key.bias', 'bert.bio_bert.encoder.layer.8.output.LayerNorm.bias', 'bert.bio_bert.encoder.layer.10.attention.output.LayerNorm.bias', 'bert.bio_bert.encoder.layer.2.attention.self.query.weight', 'bert.bio_bert.encoder.layer.0.intermediate.dense.bias', 'bert.bio_bert.encoder.layer.5.attention.output.dense.weight', 'bert.bio_bert.encoder.layer.2.attention.output.dense.weight', 'bert.bio_bert.encoder.layer.3.output.dense.weight', 'bert.bio_bert.encoder.layer.0.output.dense.weight', 'bert.bio_bert.encoder.layer.2.attention.self.query.bias', 'bert.bio_bert.encoder.layer.10.output.LayerNorm.bias', 'bert.bio_bert.encoder.layer.11.output.dense.bias', 'bert.bio_bert.encoder.layer.0.attention.self.query.bias', 'bert.bio_bert.encoder.layer.11.output.dense.weight', 'bert.bio_bert.encoder.layer.17.attention.self.value.weight', 'bert.bio_bert.encoder.layer.4.attention.output.dense.weight', 'bert.bio_bert.encoder.layer.0.attention.self.value.weight', 'bert.bio_bert.encoder.layer.13.attention.self.query.weight', 'bert.bio_bert.encoder.layer.23.attention.output.LayerNorm.bias', 'bert.bio_bert.encoder.layer.11.attention.output.LayerNorm.bias', 'bert.classifier.lstm2.weight_ih_l0', 'bert.bio_bert.encoder.layer.4.intermediate.dense.weight', 'bert.bio_bert.encoder.layer.3.attention.self.value.weight', 'bert.bio_bert.encoder.layer.15.attention.self.value.bias', 'bert.bio_bert.encoder.layer.7.attention.output.LayerNorm.bias', 'bert.bio_bert.encoder.layer.19.attention.output.LayerNorm.weight', 'bert.bio_bert.encoder.layer.14.intermediate.dense.bias', 'bert.bio_bert.encoder.layer.21.attention.output.LayerNorm.bias', 'bert.classifier.fc.weight', 'bert.bio_bert.encoder.layer.13.attention.self.key.weight', 'bert.bio_bert.encoder.layer.1.intermediate.dense.bias', 'bert.bio_bert.encoder.layer.6.intermediate.dense.weight', 'bert.bio_bert.encoder.layer.7.output.dense.weight', 'bert.bio_bert.encoder.layer.3.attention.output.dense.bias', 'bert.bio_bert.encoder.layer.6.attention.output.dense.weight', 'bert.bio_bert.encoder.layer.5.attention.self.key.bias', 'bert.bio_bert.encoder.layer.15.output.LayerNorm.bias', 'bert.bio_bert.encoder.layer.12.output.dense.bias', 'bert.bio_bert.encoder.layer.23.attention.self.value.weight', 'bert.classifier.lstm1.weight_hh_l0_reverse', 'bert.bio_bert.encoder.layer.21.output.dense.weight', 'bert.bio_bert.encoder.layer.17.attention.output.LayerNorm.weight', 'bert.bio_bert.encoder.layer.1.attention.self.value.weight', 'bert.bio_bert.pooler.dense.bias', 'bert.bio_bert.encoder.layer.19.attention.self.query.weight', 'bert.bio_bert.encoder.layer.23.attention.self.key.bias', 'bert.bio_bert.encoder.layer.22.attention.self.key.weight', 'bert.bio_bert.encoder.layer.0.attention.self.value.bias', 'bert.bio_bert.encoder.layer.5.attention.self.query.weight', 'bert.bio_bert.encoder.layer.8.attention.self.query.bias', 'bert.bio_bert.encoder.layer.12.output.dense.weight', 'bert.bio_bert.encoder.layer.6.attention.self.value.weight', 'bert.bio_bert.encoder.layer.19.attention.output.LayerNorm.bias', 'bert.classifier.lstm2.bias_hh_l0', 'bert.bio_bert.encoder.layer.14.output.dense.bias', 'bert.bio_bert.encoder.layer.10.attention.self.key.bias', 'bert.bio_bert.encoder.layer.9.output.LayerNorm.bias', 'bert.bio_bert.encoder.layer.20.output.dense.weight', 'bert.bio_bert.encoder.layer.16.output.dense.weight', 'bert.bio_bert.encoder.layer.14.attention.self.key.bias', 'bert.bio_bert.encoder.layer.17.attention.output.LayerNorm.bias', 'bert.bio_bert.encoder.layer.11.attention.self.value.weight', 'bert.bio_bert.encoder.layer.16.intermediate.dense.bias', 'bert.bio_bert.encoder.layer.8.attention.self.query.weight', 'bert.classifier.lstm1.bias_ih_l0_reverse', 'bert.bio_bert.encoder.layer.21.attention.self.key.bias', 'bert.bio_bert.encoder.layer.9.attention.self.query.weight', 'bert.bio_bert.encoder.layer.15.attention.output.LayerNorm.bias', 'bert.bio_bert.encoder.layer.15.attention.output.dense.weight', 'bert.bio_bert.encoder.layer.6.attention.self.key.weight', 'bert.classifier.lstm1.bias_hh_l0_reverse', 'bert.bio_bert.encoder.layer.3.output.dense.bias', 'bert.bio_bert.encoder.layer.5.attention.self.query.bias', 'bert.bio_bert.encoder.layer.10.attention.self.key.weight', 'bert.classifier.atten2.att_weights', 'bert.bio_bert.encoder.layer.21.attention.self.query.bias', 'bert.bio_bert.encoder.layer.7.attention.output.dense.bias', 'bert.bio_bert.encoder.layer.6.output.dense.bias', 'bert.bio_bert.encoder.layer.1.output.LayerNorm.weight', 'bert.bio_bert.encoder.layer.19.attention.self.value.weight', 'bert.bio_bert.encoder.layer.14.attention.self.query.weight', 'bert.bio_bert.encoder.layer.17.intermediate.dense.bias', 'bert.bio_bert.encoder.layer.0.attention.self.query.weight', 'bert.bio_bert.encoder.layer.1.attention.output.dense.bias', 'bert.bio_bert.encoder.layer.7.intermediate.dense.weight', 'bert.bio_bert.encoder.layer.1.attention.self.query.bias', 'bert.classifier.lstm2.weight_hh_l0_reverse', 'bert.bio_bert.encoder.layer.1.attention.self.key.weight', 'bert.bio_bert.encoder.layer.19.attention.self.key.bias', 'bert.bio_bert.encoder.layer.18.output.dense.bias', 'bert.bio_bert.encoder.layer.23.attention.self.query.weight', 'bert.bio_bert.encoder.layer.0.output.dense.bias', 'bert.bio_bert.encoder.layer.9.attention.output.LayerNorm.weight', 'bert.bio_bert.encoder.layer.21.attention.output.LayerNorm.weight', 'bert.bio_bert.encoder.layer.4.attention.self.query.weight', 'bert.bio_bert.encoder.layer.15.output.dense.bias', 'bert.bio_bert.encoder.layer.6.attention.output.LayerNorm.weight', 'bert.bio_bert.encoder.layer.13.attention.self.value.bias', 'bert.bio_bert.encoder.layer.4.attention.self.key.bias', 'bert.bio_bert.encoder.layer.11.attention.self.key.bias', 'bert.bio_bert.encoder.layer.11.intermediate.dense.weight', 'bert.bio_bert.encoder.layer.4.attention.output.LayerNorm.weight', 'bert.bio_bert.encoder.layer.5.intermediate.dense.bias', 'bert.bio_bert.encoder.layer.2.attention.output.dense.bias', 'bert.bio_bert.encoder.layer.15.intermediate.dense.bias', 'bert.bio_bert.encoder.layer.13.attention.output.dense.bias', 'bert.bio_bert.encoder.layer.21.attention.self.query.weight', 'bert.bio_bert.encoder.layer.0.output.LayerNorm.weight', 'bert.classifier.lstm2.bias_hh_l0_reverse', 'bert.bio_bert.encoder.layer.6.attention.self.key.bias', 'bert.bio_bert.encoder.layer.11.attention.self.query.bias', 'bert.bio_bert.encoder.layer.20.attention.output.LayerNorm.weight', 'bert.bio_bert.encoder.layer.3.intermediate.dense.bias', 'bert.bio_bert.encoder.layer.23.attention.self.value.bias', 'bert.bio_bert.encoder.layer.10.output.LayerNorm.weight', 'bert.bio_bert.encoder.layer.6.output.dense.weight', 'bert.bio_bert.encoder.layer.18.intermediate.dense.weight', 'bert.bio_bert.encoder.layer.19.intermediate.dense.bias', 'bert.bio_bert.encoder.layer.5.output.dense.bias', 'bert.bio_bert.encoder.layer.8.attention.self.key.bias', 'bert.bio_bert.encoder.layer.3.output.LayerNorm.weight', 'bert.bio_bert.encoder.layer.22.attention.self.value.weight', 'bert.bio_bert.encoder.layer.3.attention.self.key.bias', 'bert.bio_bert.encoder.layer.1.attention.output.dense.weight', 'bert.bio_bert.encoder.layer.11.attention.self.key.weight', 'bert.bio_bert.encoder.layer.3.attention.self.query.bias', 'bert.bio_bert.encoder.layer.3.attention.output.LayerNorm.weight', 'bert.bio_bert.encoder.layer.4.attention.output.dense.bias', 'bert.bio_bert.pooler.dense.weight', 'bert.classifier.fc.bias', 'bert.bio_bert.encoder.layer.20.intermediate.dense.bias', 'bert.bio_bert.encoder.layer.20.attention.self.value.bias', 'bert.bio_bert.encoder.layer.9.attention.self.query.bias', 'bert.bio_bert.encoder.layer.14.attention.output.LayerNorm.bias', 'bert.bio_bert.encoder.layer.20.output.LayerNorm.bias', 'bert.bio_bert.encoder.layer.12.attention.output.LayerNorm.weight', 'bert.bio_bert.encoder.layer.19.intermediate.dense.weight', 'bert.bio_bert.encoder.layer.5.attention.output.dense.bias', 'bert.bio_bert.encoder.layer.19.output.LayerNorm.bias', 'bert.bio_bert.encoder.layer.2.attention.self.value.bias', 'bert.bio_bert.encoder.layer.2.attention.output.LayerNorm.bias', 'bert.bio_bert.encoder.layer.9.attention.self.key.weight', 'bert.classifier.lstm2.bias_ih_l0', 'bert.bio_bert.encoder.layer.9.attention.output.dense.weight', 'bert.bio_bert.encoder.layer.4.output.dense.bias', 'bert.bio_bert.encoder.layer.7.attention.self.value.weight', 'bert.bio_bert.encoder.layer.6.output.LayerNorm.bias', 'bert.bio_bert.encoder.layer.4.output.LayerNorm.bias', 'bert.bio_bert.encoder.layer.6.attention.self.query.weight', 'bert.bio_bert.encoder.layer.21.intermediate.dense.weight', 'bert.bio_bert.encoder.layer.1.output.dense.weight', 'bert.bio_bert.encoder.layer.20.intermediate.dense.weight', 'bert.bio_bert.encoder.layer.23.output.LayerNorm.bias', 'bert.bio_bert.encoder.layer.7.output.dense.bias', 'bert.bio_bert.encoder.layer.10.attention.self.query.weight', 'bert.bio_bert.encoder.layer.0.attention.output.LayerNorm.weight', 'bert.bio_bert.encoder.layer.19.output.dense.weight', 'bert.bio_bert.encoder.layer.10.output.dense.bias', 'bert.bio_bert.encoder.layer.14.attention.output.dense.weight', 'bert.bio_bert.encoder.layer.18.attention.self.query.bias', 'bert.bio_bert.encoder.layer.2.intermediate.dense.weight', 'bert.bio_bert.encoder.layer.18.output.dense.weight', 'bert.bio_bert.encoder.layer.22.output.LayerNorm.weight', 'bert.bio_bert.encoder.layer.7.attention.self.query.bias', 'bert.bio_bert.encoder.layer.19.output.LayerNorm.weight', 'bert.bio_bert.encoder.layer.2.attention.self.key.weight', 'bert.bio_bert.encoder.layer.20.attention.output.dense.bias', 'bert.bio_bert.encoder.layer.12.output.LayerNorm.bias', 'bert.bio_bert.encoder.layer.0.output.LayerNorm.bias', 'bert.classifier.lstm2.bias_ih_l0_reverse', 'bert.bio_bert.encoder.layer.12.attention.self.key.bias', 'bert.bio_bert.encoder.layer.7.attention.output.dense.weight', 'bert.bio_bert.encoder.layer.21.attention.self.value.bias', 'bert.bio_bert.encoder.layer.12.attention.self.query.bias', 'bert.bio_bert.encoder.layer.16.attention.output.LayerNorm.weight', 'bert.bio_bert.encoder.layer.8.attention.self.key.weight', 'bert.bio_bert.encoder.layer.15.attention.self.key.weight', 'bert.bio_bert.encoder.layer.14.output.LayerNorm.bias', 'bert.bio_bert.encoder.layer.0.intermediate.dense.weight', 'bert.bio_bert.encoder.layer.12.attention.output.dense.weight', 'bert.bio_bert.encoder.layer.3.attention.self.key.weight', 'bert.bio_bert.encoder.layer.9.attention.output.LayerNorm.bias', 'bert.bio_bert.embeddings.position_embeddings.weight', 'bert.bio_bert.encoder.layer.5.attention.self.key.weight', 'bert.bio_bert.encoder.layer.10.attention.self.value.weight', 'bert.classifier.lstm1.weight_ih_l0_reverse', 'bert.bio_bert.encoder.layer.10.attention.output.dense.bias', 'bert.bio_bert.encoder.layer.23.output.dense.weight', 'bert.bio_bert.encoder.layer.16.attention.output.LayerNorm.bias', 'bert.bio_bert.encoder.layer.21.attention.self.value.weight', 'bert.bio_bert.encoder.layer.23.attention.output.dense.bias', 'bert.bio_bert.encoder.layer.8.intermediate.dense.bias', 'bert.bio_bert.encoder.layer.17.output.dense.weight', 'bert.bio_bert.encoder.layer.13.attention.output.dense.weight', 'bert.bio_bert.encoder.layer.14.attention.output.LayerNorm.weight', 'bert.bio_bert.encoder.layer.14.attention.self.query.bias', 'bert.bio_bert.encoder.layer.10.intermediate.dense.weight', 'bert.bio_bert.encoder.layer.11.attention.self.query.weight', 'bert.bio_bert.embeddings.token_type_embeddings.weight', 'bert.bio_bert.encoder.layer.14.attention.self.key.weight', 'bert.bio_bert.encoder.layer.11.attention.self.value.bias', 'bert.bio_bert.encoder.layer.18.attention.output.LayerNorm.bias', 'bert.bio_bert.encoder.layer.15.output.dense.weight', 'bert.bio_bert.encoder.layer.5.output.LayerNorm.weight', 'bert.bio_bert.encoder.layer.5.output.dense.weight', 'bert.bio_bert.encoder.layer.19.output.dense.bias', 'bert.bio_bert.encoder.layer.13.output.LayerNorm.weight', 'bert.bio_bert.encoder.layer.12.output.LayerNorm.weight', 'bert.classifier.lstm1.bias_hh_l0', 'bert.bio_bert.encoder.layer.8.intermediate.dense.weight', 'bert.bio_bert.encoder.layer.12.intermediate.dense.bias', 'bert.bio_bert.encoder.layer.6.attention.output.dense.bias', 'bert.bio_bert.encoder.layer.22.attention.self.key.bias', 'bert.classifier.lstm1.weight_ih_l0', 'bert.bio_bert.encoder.layer.13.intermediate.dense.weight', 'bert.bio_bert.encoder.layer.20.attention.self.key.weight', 'bert.bio_bert.encoder.layer.16.output.LayerNorm.bias', 'bert.bio_bert.encoder.layer.8.attention.self.value.bias', 'bert.bio_bert.encoder.layer.9.output.dense.weight', 'bert.bio_bert.encoder.layer.13.attention.output.LayerNorm.bias', 'bert.bio_bert.encoder.layer.22.intermediate.dense.bias', 'bert.bio_bert.encoder.layer.17.attention.self.query.bias', 'bert.bio_bert.encoder.layer.12.attention.self.query.weight', 'bert.bio_bert.encoder.layer.8.attention.output.LayerNorm.weight', 'bert.bio_bert.encoder.layer.4.attention.self.key.weight', 'bert.bio_bert.encoder.layer.14.output.LayerNorm.weight', 'bert.bio_bert.encoder.layer.16.attention.self.value.bias', 'bert.bio_bert.encoder.layer.5.attention.output.LayerNorm.bias', 'bert.bio_bert.encoder.layer.14.attention.self.value.weight', 'bert.bio_bert.encoder.layer.8.output.LayerNorm.weight', 'bert.bio_bert.encoder.layer.14.output.dense.weight', 'bert.bio_bert.encoder.layer.23.attention.self.key.weight', 'bert.bio_bert.encoder.layer.10.attention.output.LayerNorm.weight', 'bert.bio_bert.encoder.layer.17.attention.self.query.weight', 'bert.bio_bert.encoder.layer.8.output.dense.bias', 'bert.bio_bert.encoder.layer.12.attention.self.value.weight', 'bert.bio_bert.encoder.layer.22.attention.output.LayerNorm.weight', 'bert.bio_bert.encoder.layer.23.intermediate.dense.bias', 'bert.bio_bert.encoder.layer.12.attention.output.dense.bias', 'bert.classifier.lstm2.weight_ih_l0_reverse', 'bert.bio_bert.encoder.layer.12.attention.output.LayerNorm.bias', 'bert.bio_bert.encoder.layer.18.attention.self.key.weight', 'bert.bio_bert.encoder.layer.7.attention.self.key.weight', 'bert.bio_bert.encoder.layer.13.output.LayerNorm.bias', 'bert.bio_bert.encoder.layer.15.attention.output.LayerNorm.weight', 'bert.bio_bert.encoder.layer.18.output.LayerNorm.weight', 'bert.bio_bert.encoder.layer.18.output.LayerNorm.bias', 'bert.bio_bert.encoder.layer.0.attention.self.key.weight', 'bert.bio_bert.encoder.layer.10.output.dense.weight', 'bert.classifier.atten1.att_weights', 'bert.classifier.lstm1.weight_hh_l0', 'bert.bio_bert.encoder.layer.2.output.LayerNorm.weight', 'bert.bio_bert.encoder.layer.20.attention.self.value.weight', 'bert.bio_bert.encoder.layer.18.attention.output.LayerNorm.weight', 'bert.bio_bert.encoder.layer.3.intermediate.dense.weight', 'bert.bio_bert.encoder.layer.7.attention.self.value.bias', 'bert.bio_bert.encoder.layer.17.intermediate.dense.weight', 'bert.bio_bert.encoder.layer.16.attention.output.dense.weight', 'bert.bio_bert.encoder.layer.1.attention.output.LayerNorm.weight', 'bert.bio_bert.encoder.layer.16.attention.output.dense.bias', 'bert.bio_bert.encoder.layer.3.attention.self.query.weight', 'bert.bio_bert.encoder.layer.17.output.LayerNorm.weight', 'bert.bio_bert.encoder.layer.23.output.dense.bias', 'bert.bio_bert.encoder.layer.18.attention.self.key.bias', 'bert.bio_bert.encoder.layer.21.output.LayerNorm.weight', 'bert.bio_bert.encoder.layer.0.attention.output.dense.bias', 'bert.bio_bert.embeddings.LayerNorm.weight', 'bert.bio_bert.encoder.layer.2.output.LayerNorm.bias', 'bert.bio_bert.encoder.layer.10.attention.self.query.bias', 'bert.bio_bert.encoder.layer.16.attention.self.key.weight', 'bert.bio_bert.encoder.layer.16.output.LayerNorm.weight', 'bert.bio_bert.encoder.layer.22.intermediate.dense.weight', 'bert.bio_bert.encoder.layer.13.attention.self.key.bias', 'bert.bio_bert.encoder.layer.8.attention.output.dense.weight', 'bert.bio_bert.encoder.layer.20.output.LayerNorm.weight', 'bert.bio_bert.encoder.layer.17.attention.output.dense.weight', 'bert.bio_bert.encoder.layer.7.attention.self.query.weight', 'bert.bio_bert.encoder.layer.1.output.LayerNorm.bias', 'bert.bio_bert.encoder.layer.4.attention.self.value.bias', 'bert.bio_bert.encoder.layer.16.attention.self.key.bias', 'bert.bio_bert.encoder.layer.22.attention.self.value.bias', 'bert.bio_bert.encoder.layer.4.attention.self.query.bias', 'bert.bio_bert.encoder.layer.22.attention.self.query.bias', 'bert.bio_bert.encoder.layer.1.attention.self.value.bias', 'bert.bio_bert.encoder.layer.3.attention.output.LayerNorm.bias', 'bert.bio_bert.encoder.layer.19.attention.output.dense.bias', 'bert.bio_bert.encoder.layer.10.attention.output.dense.weight', 'bert.bio_bert.encoder.layer.18.attention.self.value.weight', 'bert.bio_bert.encoder.layer.5.attention.self.value.bias', 'bert.bio_bert.encoder.layer.7.intermediate.dense.bias', 'bert.bio_bert.encoder.layer.20.attention.self.query.bias', 'bert.bio_bert.encoder.layer.8.output.dense.weight', 'bert.bio_bert.encoder.layer.16.attention.self.query.bias', 'bert.bio_bert.encoder.layer.20.output.dense.bias', 'bert.bio_bert.encoder.layer.9.attention.self.value.bias', 'bert.bio_bert.encoder.layer.8.attention.self.value.weight', 'bert.bio_bert.encoder.layer.5.attention.output.LayerNorm.weight', 'bert.bio_bert.encoder.layer.1.output.dense.bias', 'bert.bio_bert.encoder.layer.2.intermediate.dense.bias', 'bert.bio_bert.encoder.layer.23.intermediate.dense.weight', 'bert.bio_bert.encoder.layer.10.attention.self.value.bias', 'bert.bio_bert.encoder.layer.5.intermediate.dense.weight', 'bert.bio_bert.encoder.layer.20.attention.self.key.bias', 'bert.bio_bert.encoder.layer.2.attention.self.key.bias', 'bert.bio_bert.encoder.layer.7.output.LayerNorm.bias', 'bert.bio_bert.encoder.layer.15.output.LayerNorm.weight', 'bert.bio_bert.encoder.layer.13.intermediate.dense.bias', 'bert.bio_bert.encoder.layer.8.attention.output.LayerNorm.bias', 'bert.bio_bert.encoder.layer.13.attention.self.value.weight', 'bert.bio_bert.encoder.layer.0.attention.output.dense.weight', 'bert.bio_bert.encoder.layer.15.attention.output.dense.bias', 'bert.bio_bert.encoder.layer.21.intermediate.dense.bias', 'bert.bio_bert.encoder.layer.17.attention.self.key.weight', 'bert.bio_bert.encoder.layer.22.output.dense.weight', 'bert.bio_bert.encoder.layer.23.attention.output.LayerNorm.weight', 'bert.bio_bert.encoder.layer.6.intermediate.dense.bias', 'bert.bio_bert.embeddings.LayerNorm.bias', 'bert.bio_bert.encoder.layer.0.attention.output.LayerNorm.bias', 'bert.bio_bert.encoder.layer.6.output.LayerNorm.weight', 'bert.bio_bert.encoder.layer.19.attention.self.value.bias', 'bert.bio_bert.encoder.layer.2.output.dense.bias', 'bert.bio_bert.encoder.layer.4.output.LayerNorm.weight', 'bert.bio_bert.encoder.layer.22.output.LayerNorm.bias', 'bert.bio_bert.encoder.layer.0.attention.self.key.bias', 'bert.bio_bert.encoder.layer.6.attention.output.LayerNorm.bias', 'bert.classifier.lstm1.bias_ih_l0', 'bert.bio_bert.encoder.layer.5.output.LayerNorm.bias', 'bert.bio_bert.encoder.layer.11.attention.output.LayerNorm.weight', 'bert.bio_bert.encoder.layer.6.attention.self.value.bias', 'bert.bio_bert.encoder.layer.15.attention.self.key.bias', 'bert.bio_bert.encoder.layer.19.attention.output.dense.weight', 'bert.bio_bert.encoder.layer.9.output.LayerNorm.weight', 'bert.bio_bert.encoder.layer.21.attention.output.dense.bias', 'bert.bio_bert.encoder.layer.14.intermediate.dense.weight', 'bert.bio_bert.encoder.layer.16.attention.self.query.weight', 'bert.bio_bert.encoder.layer.16.output.dense.bias', 'bert.bio_bert.encoder.layer.1.attention.self.key.bias', 'bert.bio_bert.encoder.layer.23.attention.self.query.bias', 'bert.bio_bert.encoder.layer.13.attention.output.LayerNorm.weight', 'bert.bio_bert.encoder.layer.22.attention.output.dense.bias', 'bert.bio_bert.encoder.layer.11.attention.output.dense.bias', 'bert.bio_bert.encoder.layer.2.output.dense.weight', 'bert.bio_bert.encoder.layer.18.attention.output.dense.weight', 'bert.bio_bert.encoder.layer.18.attention.self.query.weight', 'bert.bio_bert.encoder.layer.12.attention.self.key.weight', 'bert.bio_bert.encoder.layer.17.attention.self.key.bias', 'bert.bio_bert.encoder.layer.1.attention.output.LayerNorm.bias', 'bert.bio_bert.encoder.layer.6.attention.self.query.bias', 'bert.bio_bert.encoder.layer.1.attention.self.query.weight', 'bert.bio_bert.encoder.layer.20.attention.self.query.weight', 'bert.bio_bert.encoder.layer.13.attention.self.query.bias', 'bert.bio_bert.encoder.layer.18.attention.self.value.bias', 'bert.bio_bert.encoder.layer.16.intermediate.dense.weight', 'bert.bio_bert.encoder.layer.7.attention.output.LayerNorm.weight', 'bert.bio_bert.encoder.layer.2.attention.self.value.weight', 'bert.bio_bert.encoder.layer.2.attention.output.LayerNorm.weight', 'bert.bio_bert.encoder.layer.20.attention.output.dense.weight', 'bert.bio_bert.encoder.layer.9.attention.output.dense.bias', 'bert.bio_bert.encoder.layer.22.attention.output.dense.weight', 'bert.bio_bert.encoder.layer.11.output.LayerNorm.bias', 'bert.bio_bert.encoder.layer.14.attention.output.dense.bias', 'bert.classifier.lstm2.weight_hh_l0', 'bert.bio_bert.encoder.layer.7.output.LayerNorm.weight', 'bert.bio_bert.encoder.layer.20.attention.output.LayerNorm.bias', 'bert.bio_bert.encoder.layer.23.attention.output.dense.weight', 'bert.bio_bert.encoder.layer.21.attention.self.key.weight', 'bert.bio_bert.encoder.layer.17.output.LayerNorm.bias', 'bert.bio_bert.encoder.layer.18.intermediate.dense.bias', 'bert.bio_bert.encoder.layer.11.intermediate.dense.bias', 'bert.bio_bert.encoder.layer.3.attention.output.dense.weight', 'bert.bio_bert.encoder.layer.22.attention.self.query.weight', 'bert.bio_bert.encoder.layer.22.output.dense.bias', 'bert.bio_bert.encoder.layer.7.attention.self.key.bias', 'bert.bio_bert.encoder.layer.18.attention.output.dense.bias', 'bert.bio_bert.encoder.layer.3.output.LayerNorm.bias', 'bert.bio_bert.encoder.layer.4.output.dense.weight', 'bert.bio_bert.encoder.layer.15.attention.self.query.weight', 'bert.bio_bert.encoder.layer.13.output.dense.weight', 'bert.bio_bert.encoder.layer.19.attention.self.query.bias', 'bert.bio_bert.encoder.layer.5.attention.self.value.weight']\n",
      "You should probably TRAIN this model on a down-stream task to be able to use it for predictions and inference.\n"
     ]
    },
    {
     "name": "stdin",
     "output_type": "stream",
     "text": [
      "Please input the text to be evaluated: (0 for gpt, 1 for human)\n",
      "  For his work discovering the basis for hemoglobin gene switching and applying those insights to develop a therapy for sickle cell disease and other blood diseases, the Institute for Regenerative Medicine at the University of Pennsylvania awarded Stuart Orkin, MD the third Elaine Redding Brinster Prize in Science or Medicine.Orkin's research advanced the understanding of how the fetal hemoglobin gene-; the main oxygen carrier protein in the human fetus-;is silenced in adults. He also developed a therapy that re-activates the fetal gene for adult hemoglobin gene defects, which cause red blood cell diseases.\n"
     ]
    },
    {
     "name": "stdout",
     "output_type": "stream",
     "text": [
      "- Decision of GPT-Written: 1, Probability: GPT: 27.7303%, Human: 72.2697%.\n",
      "- Decision of GPT-Completed: 0, Probability: GPT: 96.6082%, Human: 3.3918%.\n",
      "- Decision of GPT-Polished: 0, Probability: GPT: 78.8353%, Human: 21.1647%.\n",
      "- Decision of GPT-Generated (any kind): 0, Probability: GPT: 99.9976%, Human: 0.0024%.\n",
      "\n"
     ]
    },
    {
     "name": "stdin",
     "output_type": "stream",
     "text": [
      "Please input the text to be evaluated: (0 for gpt, 1 for human)\n",
      " A new Europe-wide study investigated the prevalence of protozoans, bacteria and viruses potentially pathogenic to humans and domestic animals in birds and bats in varying climatic conditions. The prevalence of many of these pathogens was associated with temperature or rainfall.The new study compiled information on the occurrence of over 75 pathogenic microbes across Europe from almost 400 bird- and 40 bat species. Combining data on occurrence with climatic factors revealed that the occurrence of most pathogens was associated with temperature or rainfall.\n"
     ]
    },
    {
     "name": "stdout",
     "output_type": "stream",
     "text": [
      "- Decision of GPT-Written: 1, Probability: GPT: 29.8110%, Human: 70.1889%.\n",
      "- Decision of GPT-Completed: 1, Probability: GPT: 26.9345%, Human: 73.0655%.\n",
      "- Decision of GPT-Polished: 0, Probability: GPT: 81.9400%, Human: 18.0600%.\n",
      "- Decision of GPT-Generated (any kind): 0, Probability: GPT: 99.9794%, Human: 0.0206%.\n",
      "\n"
     ]
    },
    {
     "name": "stdin",
     "output_type": "stream",
     "text": [
      "Please input the text to be evaluated: (0 for gpt, 1 for human)\n",
      " Scientists at CeMM, Max Perutz Labs, and St. Anna Children's Cancer Research Institute in Vienna have achieved a significant advancement in the research of rare immune system disorders. Through a network-based approach, they have reclassified approximately 200 rare diseases. Initial comparisons with clinical data already demonstrate how this can enhance the prediction of treatment efficacy. Moreover, the study reveals for the first time the strong similarities between the molecular mechanisms of rare diseases and autoimmune and autoinflammatory conditions, such as chronic inflammatory bowel disorders, multiple sclerosis, and specific types of diabetes. The study has now been published in Science Advances.\n"
     ]
    },
    {
     "name": "stdout",
     "output_type": "stream",
     "text": [
      "- Decision of GPT-Written: 1, Probability: GPT: 24.4509%, Human: 75.5491%.\n",
      "- Decision of GPT-Completed: 0, Probability: GPT: 96.1094%, Human: 3.8906%.\n",
      "- Decision of GPT-Polished: 0, Probability: GPT: 79.2067%, Human: 20.7933%.\n",
      "- Decision of GPT-Generated (any kind): 0, Probability: GPT: 99.9653%, Human: 0.0347%.\n",
      "\n"
     ]
    },
    {
     "name": "stdin",
     "output_type": "stream",
     "text": [
      "Please input the text to be evaluated: (0 for gpt, 1 for human)\n",
      " There are still many enigmas about the mechanism of action of the CERKL gene, which causes retinitis pigmentosa and other hereditary vision diseases. Now, a team from the University of Barcelona has described how the lack of the CERKL gene alters the ability of retinal cells to fight oxidative stress generated by light and triggers cell death mechanisms that cause blindness. The new study, published in the journal Redox Biology, is a step forward in characterizing hereditary blindness and identifying key mechanisms to address future treatments based on precision medicine.\n"
     ]
    },
    {
     "name": "stdout",
     "output_type": "stream",
     "text": [
      "- Decision of GPT-Written: 1, Probability: GPT: 38.6756%, Human: 61.3244%.\n",
      "- Decision of GPT-Completed: 0, Probability: GPT: 91.2519%, Human: 8.7481%.\n",
      "- Decision of GPT-Polished: 0, Probability: GPT: 52.2070%, Human: 47.7930%.\n",
      "- Decision of GPT-Generated (any kind): 0, Probability: GPT: 99.9596%, Human: 0.0404%.\n",
      "\n"
     ]
    },
    {
     "name": "stdin",
     "output_type": "stream",
     "text": [
      "Please input the text to be evaluated: (0 for gpt, 1 for human)\n",
      " Researchers have developed a wearable optical device for early detection of hemorrhage during labor or after childbirth. This serious heavy bleeding can be hard to detect before it becomes an emergency and accounts for almost 30% of maternal deaths globally and just over 10% of maternal deaths in the United States.Studies have shown that early diagnosis and treatment for postpartum hemorrhage is the best way to prevent deaths. The new device is designed to be worn on the wrist, where it uses laser speckle imaging to continuously monitor for a decrease in blood flow that provides an early indication that heavy bleeding is taking place elsewhere in the body.\n"
     ]
    },
    {
     "name": "stdout",
     "output_type": "stream",
     "text": [
      "- Decision of GPT-Written: 1, Probability: GPT: 25.3203%, Human: 74.6797%.\n",
      "- Decision of GPT-Completed: 1, Probability: GPT: 5.7548%, Human: 94.2452%.\n",
      "- Decision of GPT-Polished: 0, Probability: GPT: 60.0187%, Human: 39.9813%.\n",
      "- Decision of GPT-Generated (any kind): 0, Probability: GPT: 99.9861%, Human: 0.0139%.\n",
      "\n"
     ]
    },
    {
     "name": "stdin",
     "output_type": "stream",
     "text": [
      "Please input the text to be evaluated: (0 for gpt, 1 for human)\n",
      " Overly broad definitions, a lack of appropriate, or any, comparison groups, among other things, in studies looking at the incidence, prevalence, and control of the condition-;epidemiology-;have distorted the risks, say the researchers.This is further compounded by inclusion of poorly conducted studies into systematic reviews and pooled data analyses that end up overstating the risk yet again, they add.The likely consequences of this include, but aren't limited to, increased public anxiety and healthcare spend; misdiagnoses; and diversion of funds from those who really do have other long term conditions secondary to COVID-19 infection, suggest the researchers.\n"
     ]
    },
    {
     "name": "stdout",
     "output_type": "stream",
     "text": [
      "- Decision of GPT-Written: 0, Probability: GPT: 52.9921%, Human: 47.0079%.\n",
      "- Decision of GPT-Completed: 0, Probability: GPT: 99.4972%, Human: 0.5029%.\n",
      "- Decision of GPT-Polished: 0, Probability: GPT: 53.5705%, Human: 46.4295%.\n",
      "- Decision of GPT-Generated (any kind): 0, Probability: GPT: 99.9973%, Human: 0.0027%.\n",
      "\n"
     ]
    },
    {
     "name": "stdin",
     "output_type": "stream",
     "text": [
      "Please input the text to be evaluated: (0 for gpt, 1 for human)\n",
      " A cellular signal essential to the development of the skeleton increases during aging to weaken bones, finds a new study in mice.The study, led by researchers from NYU Grossman School of Medicine, found that blocking the signaling pathway, called Notch, in aging skeletal stem cells caused a \"massive increase\" in bone mass and restored lost bone-healing ability during aging.The study results revolve around immature stem cells, which have the capacity to mature into more than one cell type. Bone is among the tissues that keep pools of stem cells on hand into adulthood, ready to mature into replacement cells that maintain healthy tissue and repair broken bones.\n"
     ]
    },
    {
     "name": "stdout",
     "output_type": "stream",
     "text": [
      "- Decision of GPT-Written: 1, Probability: GPT: 30.7174%, Human: 69.2826%.\n",
      "- Decision of GPT-Completed: 0, Probability: GPT: 98.3775%, Human: 1.6225%.\n",
      "- Decision of GPT-Polished: 1, Probability: GPT: 47.6774%, Human: 52.3226%.\n",
      "- Decision of GPT-Generated (any kind): 0, Probability: GPT: 99.9692%, Human: 0.0308%.\n",
      "\n"
     ]
    },
    {
     "name": "stdin",
     "output_type": "stream",
     "text": [
      "Please input the text to be evaluated: (0 for gpt, 1 for human)\n",
      " Cancer cells are chameleons. They completely change their metabolism to grow continuously. University of Basel scientists have discovered that high levels of the amino acid arginine drive metabolic reprogramming to promote tumor growth. This study suggests new avenues to improve liver cancer treatment.The liver is a vital organ with many important functions in the body. It metabolizes nutrients, stores energy, regulates the blood sugar level and plays a crucial role in detoxifying and removing harmful components and drugs. Liver cancer is one of the world's most lethal types of cancer. Conditions that cause liver cancer include obesity, excessive alcohol consumption and hepatitis C infection. Early diagnosis and appropriate therapeutic strategies are crucial for improving treatments in liver cancer.\n"
     ]
    },
    {
     "name": "stdout",
     "output_type": "stream",
     "text": [
      "- Decision of GPT-Written: 1, Probability: GPT: 21.8263%, Human: 78.1737%.\n",
      "- Decision of GPT-Completed: 1, Probability: GPT: 8.0716%, Human: 91.9284%.\n",
      "- Decision of GPT-Polished: 1, Probability: GPT: 35.7751%, Human: 64.2249%.\n",
      "- Decision of GPT-Generated (any kind): 0, Probability: GPT: 99.9970%, Human: 0.0030%.\n",
      "\n"
     ]
    },
    {
     "name": "stdin",
     "output_type": "stream",
     "text": [
      "Please input the text to be evaluated: (0 for gpt, 1 for human)\n",
      " Sleeping patterns and stress hormones could be the key to understanding how and when people with epilepsy are likely to experience seizures, a new study reveals.Researchers used mathematical modeling to understand the impact of different physiological processes, such as sleep and changes in concentration of the stress-hormone cortisol, on key signatures of epilepsy – known as epileptiform discharges (ED).Epilepsy is a serious neurological disorder characterized by a tendency to have recurrent, spontaneous seizures. Classically, seizures were assumed to occur at random, until the discovery of ED activity with timescales that vary from hours and days through to months.\n"
     ]
    },
    {
     "name": "stdout",
     "output_type": "stream",
     "text": [
      "- Decision of GPT-Written: 1, Probability: GPT: 45.5246%, Human: 54.4754%.\n",
      "- Decision of GPT-Completed: 0, Probability: GPT: 98.6513%, Human: 1.3487%.\n",
      "- Decision of GPT-Polished: 1, Probability: GPT: 28.7860%, Human: 71.2140%.\n",
      "- Decision of GPT-Generated (any kind): 0, Probability: GPT: 99.9986%, Human: 0.0014%.\n",
      "\n"
     ]
    },
    {
     "name": "stdin",
     "output_type": "stream",
     "text": [
      "Please input the text to be evaluated: (0 for gpt, 1 for human)\n",
      " Researchers from the University of Jyväskylä in collaboration with the Institute of Biomedicine University of Turku and Nova Central Finland have developed an artificial intelligence tool for automatic colorectal cancer tissue analysis. The refined neural network outperformed all previous solutions in the task. The neural network offers a faster, more precise method for classifying colorectal cancer tissue images from microscope slides. This could significantly reduce the workload of histopathologists, leading to quicker insights, prognoses, and diagnoses.\n"
     ]
    },
    {
     "name": "stdout",
     "output_type": "stream",
     "text": [
      "- Decision of GPT-Written: 1, Probability: GPT: 43.6903%, Human: 56.3097%.\n",
      "- Decision of GPT-Completed: 1, Probability: GPT: 5.7459%, Human: 94.2541%.\n",
      "- Decision of GPT-Polished: 0, Probability: GPT: 72.3070%, Human: 27.6930%.\n",
      "- Decision of GPT-Generated (any kind): 0, Probability: GPT: 99.9880%, Human: 0.0119%.\n",
      "\n"
     ]
    },
    {
     "name": "stdin",
     "output_type": "stream",
     "text": [
      "Please input the text to be evaluated: (0 for gpt, 1 for human)\n",
      " Researchers from the University of Bergen (UiB) have uncovered that proteins use a common chemical label as a shield to protect them from degradation, which in turn affects motility and aging.Proteins are key to all processes in our cells and understanding their functions and regulation is of major importance.\n"
     ]
    },
    {
     "name": "stdout",
     "output_type": "stream",
     "text": [
      "- Decision of GPT-Written: 0, Probability: GPT: 80.5002%, Human: 19.4998%.\n",
      "- Decision of GPT-Completed: 1, Probability: GPT: 2.4675%, Human: 97.5325%.\n",
      "- Decision of GPT-Polished: 1, Probability: GPT: 8.2757%, Human: 91.7243%.\n",
      "- Decision of GPT-Generated (any kind): 0, Probability: GPT: 99.8471%, Human: 0.1528%.\n",
      "\n"
     ]
    },
    {
     "name": "stdin",
     "output_type": "stream",
     "text": [
      "Please input the text to be evaluated: (0 for gpt, 1 for human)\n",
      " Researchers in São Paulo state, Brazil, have developed a low-cost anti-inflammatory hydrogel that in future could help treat chronic skin lesions such as those often seen in people with diabetes. They report the results of animal tests in an article published in the journal Biomedicine & Pharmacotherapy.According to the International Diabetes Federation, Brazil ranks sixth among countries with the most cases of diabetes, which has reached epidemic proportions and become the fifth most frequent cause of death in the world. Some 17.7 million Brazilians suffer daily from the metabolic alterations caused by impaired insulin secretion and action, such as nephropathy (kidney damage), neuropathy and poor wound healing – one in five diabetics are estimated to develop chronic wounds such as foot ulcers.\n"
     ]
    },
    {
     "name": "stdout",
     "output_type": "stream",
     "text": [
      "- Decision of GPT-Written: 1, Probability: GPT: 22.3075%, Human: 77.6925%.\n",
      "- Decision of GPT-Completed: 1, Probability: GPT: 5.0599%, Human: 94.9401%.\n",
      "- Decision of GPT-Polished: 1, Probability: GPT: 13.3190%, Human: 86.6810%.\n",
      "- Decision of GPT-Generated (any kind): 0, Probability: GPT: 99.9975%, Human: 0.0025%.\n",
      "\n"
     ]
    },
    {
     "name": "stdin",
     "output_type": "stream",
     "text": [
      "Please input the text to be evaluated: (0 for gpt, 1 for human)\n",
      " Cancer cells hijack normal biological processes, allowing them to multiply. For example, tumors spur construction of new blood vessels, building themselves \"highways\" to supply nutrients.Researchers have known about cancer's blood vessel infiltration for decades, but it was only in the past few years that Stanford Medicine scientists and their colleagues discovered that tumors don't just tap the body's highway system; they can also infiltrate and exploit its \"telecommunications.\"\n"
     ]
    },
    {
     "name": "stdout",
     "output_type": "stream",
     "text": [
      "- Decision of GPT-Written: 0, Probability: GPT: 65.6797%, Human: 34.3203%.\n",
      "- Decision of GPT-Completed: 0, Probability: GPT: 94.8730%, Human: 5.1270%.\n",
      "- Decision of GPT-Polished: 0, Probability: GPT: 77.6214%, Human: 22.3786%.\n",
      "- Decision of GPT-Generated (any kind): 0, Probability: GPT: 99.9887%, Human: 0.0113%.\n",
      "\n"
     ]
    },
    {
     "name": "stdin",
     "output_type": "stream",
     "text": [
      "Please input the text to be evaluated: (0 for gpt, 1 for human)\n",
      " Researchers at the IBB-UAB have developed the most comprehensive database available to date to help understand the basis of protein aggregation, a phenomenon associated with aging and several pathologies. The new resource, A3D-MOBD, brings together the proteomes of twelve of the most studied model organisms which cover distant biological clades and contains over half a million predictions of protein regions with a propensity to form aggregates.The A3D-MOBD was developed by the Protein Folding and Computational Diseases Group at the Institut de Biotecnologia i de Biomedicina of the Universitat Autònoma de Barcelona (IBB-UAB), which is directed by Biochemistry and Molecular Biology Professor Salvador Ventura, and in collaboration with scientists from the University of Warsaw, was recently published in the journal Nucleic Acids Research. It provides pre-calculated aggregation propensity analyses and tools for the study of this phenomenon on a proteomic scale, as well as evolutionary comparison between different species.\n"
     ]
    },
    {
     "name": "stdout",
     "output_type": "stream",
     "text": [
      "- Decision of GPT-Written: 1, Probability: GPT: 4.2934%, Human: 95.7066%.\n",
      "- Decision of GPT-Completed: 0, Probability: GPT: 99.2088%, Human: 0.7912%.\n",
      "- Decision of GPT-Polished: 0, Probability: GPT: 87.9144%, Human: 12.0856%.\n",
      "- Decision of GPT-Generated (any kind): 0, Probability: GPT: 99.9985%, Human: 0.0015%.\n",
      "\n"
     ]
    },
    {
     "name": "stdin",
     "output_type": "stream",
     "text": [
      "Please input the text to be evaluated: (0 for gpt, 1 for human)\n",
      " The Department of Biomedicine at the University of Basel and the University Hospital Basel, today announced that it delivered the first surgical procedure to treat Osteoarthritis (OA) in humans. The procedure called Nasal Chondrocyte Tissue-Engineered Cartilage, or N-TEC, provides an innovative alternative to cure confined knee cartilage lesions as well as to address degenerative OA cases that have to date required knee joint replacements – prosthetics that routinely need replacing after 15-20 years.\n"
     ]
    },
    {
     "name": "stdout",
     "output_type": "stream",
     "text": [
      "- Decision of GPT-Written: 1, Probability: GPT: 40.0998%, Human: 59.9002%.\n",
      "- Decision of GPT-Completed: 0, Probability: GPT: 90.7656%, Human: 9.2344%.\n",
      "- Decision of GPT-Polished: 0, Probability: GPT: 71.2672%, Human: 28.7328%.\n",
      "- Decision of GPT-Generated (any kind): 0, Probability: GPT: 99.9854%, Human: 0.0146%.\n",
      "\n"
     ]
    },
    {
     "name": "stdin",
     "output_type": "stream",
     "text": [
      "Please input the text to be evaluated: (0 for gpt, 1 for human)\n",
      " A promising new cancer therapy also appears extremely potent against one of the world's most devastating infectious diseases: tuberculosis (TB).Scientists at Texas Biomedical Research Institute (Texas Biomed) found the therapy dramatically reduces TB growth, even for bacteria that are drug-resistant. The findings, reported in the journal Biomedicine & Pharmacotherapy, were made in novel cellular models featuring TB-infected human cells that can help accelerate screening of potential TB drugs and therapies like this one.The therapy evaluated in this study combines two molecules – one of which is already FDA-approved for use in cancer patients, and another that is being evaluated in Phase 1/2 clinical trials for cancer. The compounds help the body initiate its normal cell death processes in targeted areas, be it cancerous cells, or in this case, cells infected with Mycobacterium tuberculosis (M.tb), the bacteria that causes TB.\n"
     ]
    },
    {
     "name": "stdout",
     "output_type": "stream",
     "text": [
      "- Decision of GPT-Written: 1, Probability: GPT: 8.8461%, Human: 91.1539%.\n",
      "- Decision of GPT-Completed: 0, Probability: GPT: 99.5592%, Human: 0.4408%.\n",
      "- Decision of GPT-Polished: 0, Probability: GPT: 91.0888%, Human: 8.9112%.\n",
      "- Decision of GPT-Generated (any kind): 0, Probability: GPT: 99.9969%, Human: 0.0031%.\n",
      "\n"
     ]
    },
    {
     "name": "stdin",
     "output_type": "stream",
     "text": [
      "Please input the text to be evaluated: (0 for gpt, 1 for human)\n",
      " Understanding how the CD300f immune receptor — and the myeloid cells of the immune system — can determine by themselves the onset rate of ageing-associated pathologies, \"will help to better understand this process, and it will contribute to the design of strategies to regulate its action. For instance, using the immune receptor CD300f as a target in biomedicine\", notes the expert. \"Also, our team has previously shown that some variants of the CD300f immune receptor could be useful as biomarkers in patients\".The paper, whose first author is the expert Frances Evans (Institute Pasteur and Udelar), includes the participation of teams from the Molecular Imaging Uruguayan Center (CUDIM), among other institutions.\n"
     ]
    },
    {
     "name": "stdout",
     "output_type": "stream",
     "text": [
      "- Decision of GPT-Written: 1, Probability: GPT: 12.0755%, Human: 87.9245%.\n",
      "- Decision of GPT-Completed: 0, Probability: GPT: 95.1547%, Human: 4.8452%.\n",
      "- Decision of GPT-Polished: 0, Probability: GPT: 75.1139%, Human: 24.8861%.\n",
      "- Decision of GPT-Generated (any kind): 0, Probability: GPT: 99.9977%, Human: 0.0023%.\n",
      "\n"
     ]
    },
    {
     "name": "stdin",
     "output_type": "stream",
     "text": [
      "Please input the text to be evaluated: (0 for gpt, 1 for human)\n",
      " In a study with 22 pairs of identical twins, Stanford Medicine researchers and their colleagues have found that a vegan diet improves cardiovascular health in as little as eight weeks.Although it's well-known that eating less meat improves cardiovascular health, diet studies are often hampered by factors such as genetic differences, upbringing and lifestyle choices. By studying identical twins, however, the researchers were able to control for genetics and limit the other factors, as the twins grew up in the same households and reported similar lifestyles.\n"
     ]
    },
    {
     "name": "stdout",
     "output_type": "stream",
     "text": [
      "- Decision of GPT-Written: 1, Probability: GPT: 24.0124%, Human: 75.9876%.\n",
      "- Decision of GPT-Completed: 1, Probability: GPT: 4.7252%, Human: 95.2748%.\n",
      "- Decision of GPT-Polished: 0, Probability: GPT: 87.2333%, Human: 12.7667%.\n",
      "- Decision of GPT-Generated (any kind): 0, Probability: GPT: 99.9633%, Human: 0.0367%.\n",
      "\n"
     ]
    },
    {
     "name": "stdin",
     "output_type": "stream",
     "text": [
      "Please input the text to be evaluated: (0 for gpt, 1 for human)\n",
      " A study published today in The Journal of Clinical Investigation led by Professor Tony Tiganis from Monash University's Biomedicine Discovery Institute, has shown that the levels of the NOX4 protein change as the disease progresses – rising in the early stages of the disease to protect the liver, but declining as the liver disease gets worse.The researchers found that removing NOX4 in obese mice led to NASH and liver damage. And when NOX4 levels were artificially raised in these mice they were protected from NASH and liver damage.\n"
     ]
    },
    {
     "name": "stdout",
     "output_type": "stream",
     "text": [
      "- Decision of GPT-Written: 0, Probability: GPT: 65.4964%, Human: 34.5036%.\n",
      "- Decision of GPT-Completed: 1, Probability: GPT: 49.8107%, Human: 50.1893%.\n",
      "- Decision of GPT-Polished: 1, Probability: GPT: 47.6279%, Human: 52.3721%.\n",
      "- Decision of GPT-Generated (any kind): 0, Probability: GPT: 99.9972%, Human: 0.0028%.\n",
      "\n"
     ]
    },
    {
     "name": "stdin",
     "output_type": "stream",
     "text": [
      "Please input the text to be evaluated: (0 for gpt, 1 for human)\n",
      " Transcription factors play essential roles in turning the genetic information encoded in genes into proteins in all cells and organisms. These regulatory proteins bind DNA, turn genes on or off, and control the rate at which DNA is transcribed into mRNA, which is needed for protein synthesis. Because of their central role in transcriptional control, many diseases can be traced back to dysregulated transcription factors. Inhibiting their activity, especially in cancer, offers therapeutic potential, but many transcription factors have a trick up their sleeve. Their activation domains are intrinsically disordered, meaning that the chains of amino acids that make up the domain lack a clear three-dimensional structure. The lack of a stable 3D structure makes it virtually impossible to design drugs that bind to activation domains.\n"
     ]
    },
    {
     "name": "stdout",
     "output_type": "stream",
     "text": [
      "- Decision of GPT-Written: 1, Probability: GPT: 24.6558%, Human: 75.3442%.\n",
      "- Decision of GPT-Completed: 1, Probability: GPT: 6.2186%, Human: 93.7814%.\n",
      "- Decision of GPT-Polished: 1, Probability: GPT: 23.6647%, Human: 76.3353%.\n",
      "- Decision of GPT-Generated (any kind): 0, Probability: GPT: 99.9971%, Human: 0.0029%.\n",
      "\n"
     ]
    },
    {
     "name": "stdin",
     "output_type": "stream",
     "text": [
      "Please input the text to be evaluated: (0 for gpt, 1 for human)\n",
      " Prostate cancer is a prevalent form of cancer among men, and androgen receptor signaling plays a crucial role in its progression. The study, conducted by a team of scientists at a leading cancer research institute, reveals a novel approach to disrupt androgen receptor activity.Biomolecular condensates are membrane-less organelles that facilitate cellular processes by bringing molecules together in a concentrated microenvironment. In prostate cancer, androgen receptor condensates have been found to drive the uncontrolled growth of cancer cells. By targeting these condensates, researchers have successfully inhibited androgen receptor signaling, thereby slowing down the cancer's progression.\n"
     ]
    },
    {
     "name": "stdout",
     "output_type": "stream",
     "text": [
      "- Decision of GPT-Written: 0, Probability: GPT: 54.9660%, Human: 45.0340%.\n",
      "- Decision of GPT-Completed: 1, Probability: GPT: 7.6532%, Human: 92.3468%.\n",
      "- Decision of GPT-Polished: 1, Probability: GPT: 28.5422%, Human: 71.4578%.\n",
      "- Decision of GPT-Generated (any kind): 0, Probability: GPT: 99.9461%, Human: 0.0539%.\n",
      "\n"
     ]
    },
    {
     "name": "stdin",
     "output_type": "stream",
     "text": [
      "Please input the text to be evaluated: (0 for gpt, 1 for human)\n",
      " Researchers from leading medical institutions collaborated on this study, which discovered a previously unrecognized role of a specific protein, called \"Lipin-1,\" in the development and progression of fatty liver disease. Lipin-1 plays a key role in regulating fat metabolism within liver cells.The findings suggest that targeting Lipin-1 with novel therapies could potentially reduce fat accumulation in the liver, providing a new avenue for treating fatty liver disease. This discovery offers hope for millions of individuals at risk for this condition and could lead to more effective treatments in the near future. Further research and clinical trials are now underway to validate these promising results.\n"
     ]
    },
    {
     "name": "stdout",
     "output_type": "stream",
     "text": [
      "- Decision of GPT-Written: 1, Probability: GPT: 47.7513%, Human: 52.2487%.\n",
      "- Decision of GPT-Completed: 0, Probability: GPT: 96.5989%, Human: 3.4011%.\n",
      "- Decision of GPT-Polished: 0, Probability: GPT: 99.2914%, Human: 0.7086%.\n",
      "- Decision of GPT-Generated (any kind): 0, Probability: GPT: 99.9964%, Human: 0.0036%.\n",
      "\n"
     ]
    },
    {
     "name": "stdin",
     "output_type": "stream",
     "text": [
      "Please input the text to be evaluated: (0 for gpt, 1 for human)\n",
      " This innovative approach has enabled the reclassification of 200 obscure immune disorders, shedding new light on their underlying mechanisms and potential treatment options.Traditionally, these rare immune disorders have been challenging to categorize due to their complex and heterogeneous nature. However, the researchers harnessed the power of network analysis to identify shared genetic and molecular pathways among these disorders. By examining the intricate web of interactions within the immune system, they were able to group these conditions more accurately.\n"
     ]
    },
    {
     "name": "stdout",
     "output_type": "stream",
     "text": [
      "- Decision of GPT-Written: 1, Probability: GPT: 46.8490%, Human: 53.1510%.\n",
      "- Decision of GPT-Completed: 0, Probability: GPT: 98.8061%, Human: 1.1939%.\n",
      "- Decision of GPT-Polished: 1, Probability: GPT: 21.8690%, Human: 78.1310%.\n",
      "- Decision of GPT-Generated (any kind): 0, Probability: GPT: 99.9290%, Human: 0.0710%.\n",
      "\n"
     ]
    },
    {
     "name": "stdin",
     "output_type": "stream",
     "text": [
      "Please input the text to be evaluated: (0 for gpt, 1 for human)\n",
      " A new study published in the Journal of Environmental Health reveals a concerning connection between climate change and the increased spread of pathogens in both humans and animals. Researchers have long suspected that rising global temperatures and shifting weather patterns could influence the distribution of disease-causing agents, and this study provides compelling evidence to support those concerns.The research, conducted over a span of several years, examined the relationship between climate variables and the prevalence of various pathogens. It found that as temperatures rise and weather becomes more unpredictable, the habitats for disease vectors like mosquitoes and ticks expand, leading to a higher risk of diseases such as malaria, Lyme disease, and Zika virus.\n"
     ]
    },
    {
     "name": "stdout",
     "output_type": "stream",
     "text": [
      "- Decision of GPT-Written: 1, Probability: GPT: 38.3351%, Human: 61.6649%.\n",
      "- Decision of GPT-Completed: 0, Probability: GPT: 98.1912%, Human: 1.8088%.\n",
      "- Decision of GPT-Polished: 0, Probability: GPT: 50.9150%, Human: 49.0850%.\n",
      "- Decision of GPT-Generated (any kind): 0, Probability: GPT: 99.9988%, Human: 0.0012%.\n",
      "\n"
     ]
    },
    {
     "name": "stdin",
     "output_type": "stream",
     "text": [
      "Please input the text to be evaluated: (0 for gpt, 1 for human)\n",
      " Renowned hematologist and researcher, Dr. Stuart Orkin, has been honored with the prestigious Elaine Redding Brinster Prize for his groundbreaking work in the development of therapies for sickle cell disease. This marks the third time the award has been bestowed upon an exceptional scientist who has made significant contributions to the field of hematology.Dr. Orkin's pioneering research has revolutionized the treatment landscape for sickle cell disease, a genetic disorder that affects millions worldwide. His innovative approach, using gene therapy and gene editing techniques, has shown remarkable promise in correcting the genetic mutations responsible for the disease. These advancements hold the potential to provide a cure for sickle cell disease, offering hope to countless individuals and families affected by this debilitating condition.\n"
     ]
    },
    {
     "name": "stdout",
     "output_type": "stream",
     "text": [
      "- Decision of GPT-Written: 1, Probability: GPT: 12.4409%, Human: 87.5591%.\n",
      "- Decision of GPT-Completed: 0, Probability: GPT: 99.1067%, Human: 0.8933%.\n",
      "- Decision of GPT-Polished: 0, Probability: GPT: 91.1351%, Human: 8.8649%.\n",
      "- Decision of GPT-Generated (any kind): 0, Probability: GPT: 99.9980%, Human: 0.0020%.\n",
      "\n"
     ]
    },
    {
     "name": "stdin",
     "output_type": "stream",
     "text": [
      "Please input the text to be evaluated: (0 for gpt, 1 for human)\n",
      " A team of scientists has unveiled crucial insights into potential treatments for hereditary blindness. Hereditary blindness, often caused by genetic mutations, affects millions worldwide, and until now, effective therapies have remained elusive.The research, published in the latest issue of Medical Advances, highlights the identification of key mechanisms responsible for hereditary blindness. Scientists discovered that specific gene mutations play a pivotal role in the progression of these conditions, shedding light on potential treatment targets.\n"
     ]
    },
    {
     "name": "stdout",
     "output_type": "stream",
     "text": [
      "- Decision of GPT-Written: 0, Probability: GPT: 62.6638%, Human: 37.3362%.\n",
      "- Decision of GPT-Completed: 1, Probability: GPT: 11.4858%, Human: 88.5142%.\n",
      "- Decision of GPT-Polished: 0, Probability: GPT: 73.7599%, Human: 26.2401%.\n",
      "- Decision of GPT-Generated (any kind): 0, Probability: GPT: 99.9428%, Human: 0.0572%.\n",
      "\n"
     ]
    },
    {
     "name": "stdin",
     "output_type": "stream",
     "text": [
      "Please input the text to be evaluated: (0 for gpt, 1 for human)\n",
      " Scientists have unveiled a wearable optical device designed to revolutionize the early detection of postpartum hemorrhage (PPH), a leading cause of maternal mortality worldwide. Postpartum hemorrhage occurs after childbirth and can be life-threatening if not promptly identified and treated.The innovative device, dubbed \"HemoGuard,\" employs non-invasive optical technology to continuously monitor a woman's blood loss during the crucial postpartum period. It consists of a lightweight, comfortable sensor worn on the abdomen, which uses near-infrared spectroscopy to measure changes in hemoglobin levels. HemoGuard's real-time data analysis alerts healthcare providers to any abnormal blood loss, enabling swift intervention and potentially saving lives.\n"
     ]
    },
    {
     "name": "stdout",
     "output_type": "stream",
     "text": [
      "- Decision of GPT-Written: 1, Probability: GPT: 17.2111%, Human: 82.7889%.\n",
      "- Decision of GPT-Completed: 1, Probability: GPT: 25.4359%, Human: 74.5641%.\n",
      "- Decision of GPT-Polished: 0, Probability: GPT: 51.1611%, Human: 48.8389%.\n",
      "- Decision of GPT-Generated (any kind): 0, Probability: GPT: 99.9959%, Human: 0.0041%.\n",
      "\n"
     ]
    },
    {
     "name": "stdin",
     "output_type": "stream",
     "text": [
      "Please input the text to be evaluated: (0 for gpt, 1 for human)\n",
      " Medical experts are sounding the alarm on the quality of research surrounding Long COVID, a condition affecting individuals long after their initial COVID-19 infection. Concerns have arisen regarding the methodologies employed in numerous studies investigating Long COVID, prompting experts to call for a reevaluation of the existing research.According to these experts, many studies suffer from flawed methodologies, such as small sample sizes, limited diversity in participants, and inadequate control groups. These issues raise questions about the reliability of findings related to Long COVID's prevalence, risk factors, and potential treatments.\n"
     ]
    },
    {
     "name": "stdout",
     "output_type": "stream",
     "text": [
      "- Decision of GPT-Written: 0, Probability: GPT: 51.1187%, Human: 48.8813%.\n",
      "- Decision of GPT-Completed: 1, Probability: GPT: 9.4781%, Human: 90.5219%.\n",
      "- Decision of GPT-Polished: 0, Probability: GPT: 75.4416%, Human: 24.5584%.\n",
      "- Decision of GPT-Generated (any kind): 0, Probability: GPT: 99.9947%, Human: 0.0053%.\n",
      "\n"
     ]
    },
    {
     "name": "stdin",
     "output_type": "stream",
     "text": [
      "Please input the text to be evaluated: (0 for gpt, 1 for human)\n",
      " Osteoporosis, a condition characterized by the weakening of bones, is a major concern for aging populations worldwide. The Notch signaling pathway is known to play a crucial role in bone development and maintenance. Researchers have long speculated that targeting this pathway could be a potential strategy for addressing age-related bone loss.Recent experiments conducted on animal models have shown promising results, with the inhibition of the Notch pathway leading to increased bone density and improved bone strength. If these findings hold true in human clinical trials, it could represent a groundbreaking approach to combating osteoporosis and enhancing the quality of life for aging individuals.\n"
     ]
    },
    {
     "name": "stdout",
     "output_type": "stream",
     "text": [
      "- Decision of GPT-Written: 1, Probability: GPT: 40.0855%, Human: 59.9145%.\n",
      "- Decision of GPT-Completed: 1, Probability: GPT: 6.9122%, Human: 93.0878%.\n",
      "- Decision of GPT-Polished: 1, Probability: GPT: 40.5265%, Human: 59.4735%.\n",
      "- Decision of GPT-Generated (any kind): 0, Probability: GPT: 99.9536%, Human: 0.0464%.\n",
      "\n"
     ]
    },
    {
     "name": "stdin",
     "output_type": "stream",
     "text": [
      "Please input the text to be evaluated: (0 for gpt, 1 for human)\n",
      " A recent study published in the journal Cell Metabolism has unveiled a pivotal driver behind the metabolic rewiring observed in liver cancer cells. Liver cancer, a deadly and often hard-to-treat disease, is characterized by the rapid growth of malignant cells, which exhibit significant alterations in their metabolic processes.The research, led by a team of scientists from leading institutions worldwide, identified a protein called \"HIF-1α\" (Hypoxia-Inducible Factor 1-alpha) as a central player in the metabolic transformation of liver cancer cells. HIF-1α is known to be involved in adapting cells to low-oxygen environments, but its role in liver cancer metabolism has been unclear until now.\n"
     ]
    },
    {
     "name": "stdout",
     "output_type": "stream",
     "text": [
      "- Decision of GPT-Written: 1, Probability: GPT: 18.6178%, Human: 81.3821%.\n",
      "- Decision of GPT-Completed: 0, Probability: GPT: 89.6722%, Human: 10.3278%.\n",
      "- Decision of GPT-Polished: 0, Probability: GPT: 96.9148%, Human: 3.0852%.\n",
      "- Decision of GPT-Generated (any kind): 0, Probability: GPT: 99.9935%, Human: 0.0065%.\n",
      "\n"
     ]
    },
    {
     "name": "stdin",
     "output_type": "stream",
     "text": [
      "Please input the text to be evaluated: (0 for gpt, 1 for human)\n",
      " Recent breakthrough research has shed light on the complex relationship between sleep patterns and stress hormones in individuals with epilepsy. Scientists have long known that sleep disturbances and stress can trigger seizures in people with epilepsy, but the underlying mechanisms remained elusive until now.A study published in the Journal of Neurology and Neuroscience reveals that disruptions in the sleep-wake cycle can lead to an increase in stress hormone levels, particularly cortisol. Elevated cortisol levels, in turn, appear to lower the seizure threshold, making individuals with epilepsy more susceptible to seizures.\n"
     ]
    },
    {
     "name": "stdout",
     "output_type": "stream",
     "text": [
      "- Decision of GPT-Written: 0, Probability: GPT: 50.6450%, Human: 49.3550%.\n",
      "- Decision of GPT-Completed: 0, Probability: GPT: 67.1550%, Human: 32.8450%.\n",
      "- Decision of GPT-Polished: 0, Probability: GPT: 81.5178%, Human: 18.4822%.\n",
      "- Decision of GPT-Generated (any kind): 0, Probability: GPT: 99.9954%, Human: 0.0046%.\n",
      "\n"
     ]
    },
    {
     "name": "stdin",
     "output_type": "stream",
     "text": [
      "Please input the text to be evaluated: (0 for gpt, 1 for human)\n",
      " Colorectal cancer is one of the leading causes of cancer-related deaths worldwide, and early detection is crucial for improving patient outcomes. The new AI system can accurately identify and classify cancerous tissue with remarkable precision, significantly reducing the margin for error in pathology assessments.The tool leverages a vast dataset of tissue samples and employs deep learning algorithms to identify subtle patterns and anomalies, enabling rapid and consistent analysis. Not only does this advance promise quicker diagnoses, but it also has the potential to reduce healthcare costs and alleviate the burden on pathologists.\n"
     ]
    },
    {
     "name": "stdout",
     "output_type": "stream",
     "text": [
      "- Decision of GPT-Written: 0, Probability: GPT: 54.7201%, Human: 45.2799%.\n",
      "- Decision of GPT-Completed: 1, Probability: GPT: 7.9715%, Human: 92.0285%.\n",
      "- Decision of GPT-Polished: 1, Probability: GPT: 47.7746%, Human: 52.2254%.\n",
      "- Decision of GPT-Generated (any kind): 0, Probability: GPT: 99.9862%, Human: 0.0138%.\n",
      "\n"
     ]
    },
    {
     "name": "stdin",
     "output_type": "stream",
     "text": [
      "Please input the text to be evaluated: (0 for gpt, 1 for human)\n",
      " Scientists have identified a common chemical label that plays a pivotal role in protecting proteins from degradation, potentially opening doors to innovative therapies and treatments for various diseases.Researchers from leading institutions, including the prestigious [Institute Name], collaborated on this study. They found that a chemical modification known as \"ubiquitin\" acts as a shield for proteins within our cells. Ubiquitin marks proteins for recycling or degradation, but this research reveals a previously unknown function: it can safeguard vital proteins from being broken down prematurely.\n"
     ]
    },
    {
     "name": "stdout",
     "output_type": "stream",
     "text": [
      "- Decision of GPT-Written: 1, Probability: GPT: 49.4429%, Human: 50.5571%.\n",
      "- Decision of GPT-Completed: 1, Probability: GPT: 6.9314%, Human: 93.0686%.\n",
      "- Decision of GPT-Polished: 0, Probability: GPT: 59.4157%, Human: 40.5843%.\n",
      "- Decision of GPT-Generated (any kind): 0, Probability: GPT: 99.9656%, Human: 0.0344%.\n",
      "\n"
     ]
    },
    {
     "name": "stdin",
     "output_type": "stream",
     "text": [
      "Please input the text to be evaluated: (0 for gpt, 1 for human)\n",
      " Researchers have developed a promising solution for the treatment of chronic skin lesions in individuals with diabetes. A groundbreaking low-cost anti-inflammatory hydrogel has emerged as a potential game-changer in managing the often-persistent skin issues that afflict many diabetes patients.This innovative hydrogel, formulated with readily available and affordable materials, aims to address the chronic inflammation associated with diabetic skin complications. Chronic wounds and skin lesions are common among people with diabetes due to impaired wound healing processes and compromised immune responses. Current treatment options can be costly and often ineffective.\n"
     ]
    },
    {
     "name": "stdout",
     "output_type": "stream",
     "text": [
      "- Decision of GPT-Written: 1, Probability: GPT: 37.3364%, Human: 62.6636%.\n",
      "- Decision of GPT-Completed: 1, Probability: GPT: 4.4147%, Human: 95.5853%.\n",
      "- Decision of GPT-Polished: 1, Probability: GPT: 47.8192%, Human: 52.1808%.\n",
      "- Decision of GPT-Generated (any kind): 0, Probability: GPT: 99.9257%, Human: 0.0743%.\n",
      "\n"
     ]
    },
    {
     "name": "stdin",
     "output_type": "stream",
     "text": [
      "Please input the text to be evaluated: (0 for gpt, 1 for human)\n",
      " The intersection of cancer research and neuroscience is opening up new horizons in the quest for more effective cancer treatments. Scientists have long recognized the complex relationship between the brain and cancer, and recent studies are shedding light on the profound impact of neural factors on cancer progression and response to therapy.This emerging field, known as \"Cancer Neuroscience,\" explores the intricate connections between the nervous system, immune responses, and tumor development. Researchers are now unraveling how the brain's neural signals can influence tumor growth, metastasis, and even drug resistance. Understanding these mechanisms may pave the way for innovative therapies that target neural pathways to halt cancer's progression.\n"
     ]
    },
    {
     "name": "stdout",
     "output_type": "stream",
     "text": [
      "- Decision of GPT-Written: 1, Probability: GPT: 17.6666%, Human: 82.3334%.\n",
      "- Decision of GPT-Completed: 1, Probability: GPT: 14.5283%, Human: 85.4717%.\n",
      "- Decision of GPT-Polished: 0, Probability: GPT: 63.8708%, Human: 36.1292%.\n",
      "- Decision of GPT-Generated (any kind): 0, Probability: GPT: 99.9944%, Human: 0.0056%.\n",
      "\n"
     ]
    },
    {
     "name": "stdin",
     "output_type": "stream",
     "text": [
      "Please input the text to be evaluated: (0 for gpt, 1 for human)\n",
      " The database, aptly named \"ProteinAggDB,\" promises to revolutionize our understanding of the underlying causes and mechanisms behind protein aggregation, a phenomenon implicated in various neurodegenerative diseases such as Alzheimer's and Parkinson's.ProteinAggDB compiles an extensive collection of data from numerous scientific studies, including protein structures, aggregation propensity scores, and experimental conditions. This wealth of information will enable scientists and researchers to explore the intricacies of protein aggregation, aiding in the identification of potential therapeutic targets and strategies to combat protein-related disorders.\n"
     ]
    },
    {
     "name": "stdout",
     "output_type": "stream",
     "text": [
      "- Decision of GPT-Written: 1, Probability: GPT: 39.8325%, Human: 60.1675%.\n",
      "- Decision of GPT-Completed: 0, Probability: GPT: 99.9116%, Human: 0.0884%.\n",
      "- Decision of GPT-Polished: 0, Probability: GPT: 68.0302%, Human: 31.9698%.\n",
      "- Decision of GPT-Generated (any kind): 0, Probability: GPT: 99.9959%, Human: 0.0041%.\n",
      "\n"
     ]
    },
    {
     "name": "stdin",
     "output_type": "stream",
     "text": [
      "Please input the text to be evaluated: (0 for gpt, 1 for human)\n",
      " Researchers from leading medical institutions have unveiled a novel technique that harnesses the regenerative potential of nasal cartilage to repair damaged cartilage elsewhere in the body.Traditionally, cartilage repair has been a challenging task due to its limited capacity for self-repair. However, this innovative approach offers a promising solution. By using nasal cartilage as a donor source, the grafts boast a remarkable compatibility and efficacy. The nasal cartilage is easily accessible, and its properties make it an ideal candidate for regenerative procedures.\n"
     ]
    },
    {
     "name": "stdout",
     "output_type": "stream",
     "text": [
      "- Decision of GPT-Written: 0, Probability: GPT: 55.7526%, Human: 44.2474%.\n",
      "- Decision of GPT-Completed: 0, Probability: GPT: 94.2447%, Human: 5.7553%.\n",
      "- Decision of GPT-Polished: 1, Probability: GPT: 49.1276%, Human: 50.8724%.\n",
      "- Decision of GPT-Generated (any kind): 0, Probability: GPT: 99.9709%, Human: 0.0291%.\n",
      "\n"
     ]
    },
    {
     "name": "stdin",
     "output_type": "stream",
     "text": [
      "Please input the text to be evaluated: (0 for gpt, 1 for human)\n",
      " The therapy in question, known as immunotherapy, has garnered significant attention for its remarkable success in treating certain cancers by harnessing the body's immune system. Recent studies have unveiled its remarkable efficacy against TB bacteria, showing that it can significantly reduce bacterial loads in experimental models.Dr. Sarah Mitchell, lead author of the study, expressed her excitement, stating, \"Our findings are truly promising. By repurposing immunotherapy techniques originally designed for cancer treatment, we may have discovered a powerful new tool to combat TB, particularly in drug-resistant cases where treatment options are limited.\"\n"
     ]
    },
    {
     "name": "stdout",
     "output_type": "stream",
     "text": [
      "- Decision of GPT-Written: 1, Probability: GPT: 23.6066%, Human: 76.3934%.\n",
      "- Decision of GPT-Completed: 0, Probability: GPT: 98.4961%, Human: 1.5039%.\n",
      "- Decision of GPT-Polished: 0, Probability: GPT: 81.2088%, Human: 18.7912%.\n",
      "- Decision of GPT-Generated (any kind): 0, Probability: GPT: 99.9864%, Human: 0.0136%.\n",
      "\n"
     ]
    },
    {
     "name": "stdin",
     "output_type": "stream",
     "text": [
      "Please input the text to be evaluated: (0 for gpt, 1 for human)\n",
      " The study, led by a team of scientists at a prominent research institution, focused on the immune receptor protein known as \"IREX-1.\" By manipulating the levels of IREX-1 in laboratory mice, the researchers observed remarkable effects on the animals' overall health and longevity. Mice with elevated IREX-1 levels displayed improved immune system function, reduced inflammation, and increased resistance to age-related illnesses such as diabetes and cardiovascular diseases.\n"
     ]
    },
    {
     "name": "stdout",
     "output_type": "stream",
     "text": [
      "- Decision of GPT-Written: 1, Probability: GPT: 40.4111%, Human: 59.5888%.\n",
      "- Decision of GPT-Completed: 0, Probability: GPT: 73.4426%, Human: 26.5574%.\n",
      "- Decision of GPT-Polished: 0, Probability: GPT: 74.4250%, Human: 25.5750%.\n",
      "- Decision of GPT-Generated (any kind): 0, Probability: GPT: 99.9974%, Human: 0.0026%.\n",
      "\n"
     ]
    },
    {
     "name": "stdin",
     "output_type": "stream",
     "text": [
      "Please input the text to be evaluated: (0 for gpt, 1 for human)\n",
      " The study, conducted at a leading medical institution, involved identical twins with similar baseline health profiles. One twin adhered to a plant-based vegan diet, while the other maintained their regular omnivorous eating habits. After the brief but intensive study period, the vegan twin exhibited remarkable improvements in key cardiovascular markers. These included reductions in cholesterol levels, blood pressure, and inflammation, all of which are crucial indicators of heart health. Additionally, the vegan twin experienced notable weight loss and increased energy levels.\n"
     ]
    },
    {
     "name": "stdout",
     "output_type": "stream",
     "text": [
      "- Decision of GPT-Written: 0, Probability: GPT: 53.0707%, Human: 46.9293%.\n",
      "- Decision of GPT-Completed: 0, Probability: GPT: 97.2319%, Human: 2.7681%.\n",
      "- Decision of GPT-Polished: 1, Probability: GPT: 36.0353%, Human: 63.9647%.\n",
      "- Decision of GPT-Generated (any kind): 0, Probability: GPT: 99.9939%, Human: 0.0061%.\n",
      "\n"
     ]
    },
    {
     "name": "stdin",
     "output_type": "stream",
     "text": [
      "Please input the text to be evaluated: (0 for gpt, 1 for human)\n",
      " Recent studies have revealed the potential of immunotherapy to offer a significant breakthrough in TB treatment, especially noteworthy in instances where traditional treatments are less effective due to drug resistance. Dr. Sarah Mitchell, the lead researcher in this groundbreaking study, shared her enthusiasm about these developments. \"Our findings are truly promising,\" she stated. \"By repurposing immunotherapy techniques originally designed for cancer treatment, we may have discovered a powerful new tool to combat TB. This is particularly critical for drug-resistant cases, where existing treatment options are severely limited.\"\n"
     ]
    },
    {
     "name": "stdout",
     "output_type": "stream",
     "text": [
      "- Decision of GPT-Written: 1, Probability: GPT: 34.4358%, Human: 65.5642%.\n",
      "- Decision of GPT-Completed: 0, Probability: GPT: 97.5154%, Human: 2.4846%.\n",
      "- Decision of GPT-Polished: 0, Probability: GPT: 82.1378%, Human: 17.8622%.\n",
      "- Decision of GPT-Generated (any kind): 0, Probability: GPT: 99.9071%, Human: 0.0929%.\n",
      "\n"
     ]
    },
    {
     "name": "stdin",
     "output_type": "stream",
     "text": [
      "Please input the text to be evaluated: (0 for gpt, 1 for human)\n",
      " Immunotherapy, a treatment method initially developed for certain cancers, is now making waves in the fight against tuberculosis (TB). This innovative approach, which leverages the body's immune system, has demonstrated exceptional success in reducing TB bacterial loads in experimental settings.\n"
     ]
    },
    {
     "name": "stdout",
     "output_type": "stream",
     "text": [
      "- Decision of GPT-Written: 0, Probability: GPT: 69.1410%, Human: 30.8590%.\n",
      "- Decision of GPT-Completed: 1, Probability: GPT: 14.5147%, Human: 85.4853%.\n",
      "- Decision of GPT-Polished: 1, Probability: GPT: 49.8597%, Human: 50.1403%.\n",
      "- Decision of GPT-Generated (any kind): 0, Probability: GPT: 99.8954%, Human: 0.1046%.\n",
      "\n"
     ]
    },
    {
     "name": "stdin",
     "output_type": "stream",
     "text": [
      "Please input the text to be evaluated: (0 for gpt, 1 for human)\n",
      " A groundbreaking study, spearheaded by a group of distinguished scientists hailing from a renowned research institution, has honed in on a pivotal immune receptor protein, christened as \"IREX-1.\" Through meticulous manipulation of IREX-1 levels within laboratory mice, these diligent researchers have unveiled a slew of astonishing outcomes that have profound implications for health and longevity. Astonishingly, the mice endowed with heightened IREX-1 levels exhibited a cornucopia of health benefits, including enhanced immune system prowess, curtailed inflammation, and fortified resilience against age-associated maladies like diabetes and cardiovascular diseases. This discovery ushers in a promising era of potential therapeutic breakthroughs.\n"
     ]
    },
    {
     "name": "stdout",
     "output_type": "stream",
     "text": [
      "- Decision of GPT-Written: 1, Probability: GPT: 20.5744%, Human: 79.4256%.\n",
      "- Decision of GPT-Completed: 0, Probability: GPT: 99.8495%, Human: 0.1505%.\n",
      "- Decision of GPT-Polished: 0, Probability: GPT: 52.5931%, Human: 47.4069%.\n",
      "- Decision of GPT-Generated (any kind): 0, Probability: GPT: 99.9993%, Human: 0.0007%.\n",
      "\n"
     ]
    },
    {
     "name": "stdin",
     "output_type": "stream",
     "text": [
      "Please input the text to be evaluated: (0 for gpt, 1 for human)\n",
      " The research team achieved these remarkable results by skillfully manipulating the levels of IREX-1 within the mice. Their meticulously conducted experiments yielded a profound impact on the overall health and lifespan of the rodent subjects. Astonishingly, mice with heightened levels of IREX-1 demonstrated a significantly enhanced immune system, a marked reduction in inflammation, and a substantial increase in their ability to fend off age-related maladies, including but not limited to diabetes and cardiovascular diseases.\n"
     ]
    },
    {
     "name": "stdout",
     "output_type": "stream",
     "text": [
      "- Decision of GPT-Written: 0, Probability: GPT: 61.8320%, Human: 38.1680%.\n",
      "- Decision of GPT-Completed: 0, Probability: GPT: 99.9345%, Human: 0.0655%.\n",
      "- Decision of GPT-Polished: 1, Probability: GPT: 40.2759%, Human: 59.7241%.\n",
      "- Decision of GPT-Generated (any kind): 0, Probability: GPT: 99.9515%, Human: 0.0485%.\n",
      "\n"
     ]
    },
    {
     "name": "stdin",
     "output_type": "stream",
     "text": [
      "Please input the text to be evaluated: (0 for gpt, 1 for human)\n",
      " Sociability is crucial for survival, whereas social avoidance is a feature of disorders such as Rett syndrome, which is caused by loss-of-function mutations in MECP2. To understand how a preference for social interactions is encoded, we used in vivo calcium imaging to compare medial prefrontal cortex (mPFC) activity in female wild-type and Mecp2-heterozygous mice during three-chamber tests. We found that mPFC pyramidal neurons in Mecp2-deficient mice are hypo-responsive to both social and nonsocial stimuli. Hypothesizing that this limited dynamic range restricts the circuit’s ability to disambiguate coactivity patterns for different stimuli, we suppressed the mPFC in wild-type mice and found that this eliminated both pattern decorrelation and social preference. Conversely, stimulating the mPFC in MeCP2-deficient mice restored social preference, but only if it was sufficient to restore pattern decorrelation. \n"
     ]
    },
    {
     "name": "stdout",
     "output_type": "stream",
     "text": [
      "- Decision of GPT-Written: 1, Probability: GPT: 6.4803%, Human: 93.5197%.\n",
      "- Decision of GPT-Completed: 0, Probability: GPT: 92.0087%, Human: 7.9913%.\n",
      "- Decision of GPT-Polished: 1, Probability: GPT: 10.8209%, Human: 89.1791%.\n",
      "- Decision of GPT-Generated (any kind): 0, Probability: GPT: 99.9983%, Human: 0.0017%.\n",
      "\n"
     ]
    },
    {
     "name": "stdin",
     "output_type": "stream",
     "text": [
      "Please input the text to be evaluated: (0 for gpt, 1 for human)\n",
      " Rett syndrome (RTT) is a severe neurodevelopmental disorder caused by loss of function of the X-linked methyl-CpG–binding protein 2 (MECP2). Several case studies report that gross motor function can be improved in children with RTT through treadmill walking, but whether the MeCP2-deficient motor circuit can support actual motor learning remains unclear. We used two-photon calcium imaging to simultaneously observe layer (L) 2/3 and L5a excitatory neuronal activity in the motor cortex (M1) while mice adapted to changing speeds on a computerized running wheel. Despite circuit hypoactivity and weakened functional connectivity across L2/3 and L5a, the Mecp2-null circuit’s firing pattern evolved with improved performance over 2 weeks. Moreover, trained mice became less anxious and lived 20% longer than untrained mice. Because motor deficits and anxiety are core symptoms of RTT, \n"
     ]
    },
    {
     "name": "stdout",
     "output_type": "stream",
     "text": [
      "- Decision of GPT-Written: 1, Probability: GPT: 9.8253%, Human: 90.1747%.\n",
      "- Decision of GPT-Completed: 0, Probability: GPT: 99.9060%, Human: 0.0940%.\n",
      "- Decision of GPT-Polished: 0, Probability: GPT: 89.9893%, Human: 10.0107%.\n",
      "- Decision of GPT-Generated (any kind): 0, Probability: GPT: 99.9995%, Human: 0.0005%.\n",
      "\n"
     ]
    },
    {
     "name": "stdin",
     "output_type": "stream",
     "text": [
      "Please input the text to be evaluated: (0 for gpt, 1 for human)\n",
      " Motor cortex displays remarkable plasticity during motor learning. However, it remains largely unknown how the highly dynamic motor cortical circuit reorganizes during reward-independent procedural learning at the populational level. Machine learning-based analysis of the neuronal events recorded with in vivo two-photon calcium imaging revealed procedural learning-induced 5 circuit reorganization in superficial but not deep layers of the motor cortex while mice learned to run on a speed-controlled treadmill. Mice lacking Methyl-CpG-binding protein (MeCP2), an animal model for Rett Syndrome, exhibited impaired both procedural learning and dynamic circuit reorganization in layer 2/3, but not layer 5a. These results identify potential circuit mechanisms underlying motor skill learning disability caused by MeCP2 deletion and provide insight in 10 developing therapies for Rett syndrome. not certified by peer review) is the author/funder. \n"
     ]
    },
    {
     "name": "stdout",
     "output_type": "stream",
     "text": [
      "- Decision of GPT-Written: 1, Probability: GPT: 14.5196%, Human: 85.4804%.\n",
      "- Decision of GPT-Completed: 1, Probability: GPT: 11.6529%, Human: 88.3471%.\n",
      "- Decision of GPT-Polished: 0, Probability: GPT: 90.7723%, Human: 9.2277%.\n",
      "- Decision of GPT-Generated (any kind): 0, Probability: GPT: 99.9986%, Human: 0.0014%.\n",
      "\n"
     ]
    },
    {
     "name": "stdin",
     "output_type": "stream",
     "text": [
      "Please input the text to be evaluated: (0 for gpt, 1 for human)\n",
      " Since the first identified case of COVID-19 in December 2019, a plethora of pharmaceuticals and therapeutics have been tested for COVID-19 treatment. While medical advancements and breakthroughs are well underway, the sheer number of studies, treatments, and associated reports makes it extremely challenging to keep track of the rapidly growing COVID-19 research landscape. While existing scientific literature search systems provide basic document retrieval, they fundamentally lack the ability to explore data, and in addition, do not help develop a deeper understanding of COVID-19 related clinical experiments and findings. As research expands, results do so as well, resulting in a position that is complicated and overwhelming. To address this issue, we present a named entity recognition based framework that accurately extracts COVID-19 related information from clinical test results articles, and generates …\n"
     ]
    },
    {
     "name": "stdout",
     "output_type": "stream",
     "text": [
      "- Decision of GPT-Written: 1, Probability: GPT: 41.3104%, Human: 58.6896%.\n",
      "- Decision of GPT-Completed: 0, Probability: GPT: 98.0506%, Human: 1.9494%.\n",
      "- Decision of GPT-Polished: 0, Probability: GPT: 62.0684%, Human: 37.9316%.\n",
      "- Decision of GPT-Generated (any kind): 0, Probability: GPT: 99.9971%, Human: 0.0029%.\n",
      "\n"
     ]
    },
    {
     "name": "stdin",
     "output_type": "stream",
     "text": [
      "Please input the text to be evaluated: (0 for gpt, 1 for human)\n",
      " Finding relationships between two related groups of images has been a challenging question in many fields. E.g., it is informative in neuron science studies to build the connection between experiment animals' neuron activity images and their behavior images. Very few previous works have achieved this task since most generative models focus on reconstructing the output images similar to input images. We proposed a novel framework in this paper to accomplish this goal, which could map images from one group to images from another group. We apply the singular value decomposition (SVD) method to remove the original images' background noise. Next, we combine two deep learning approaches, variational autoencoder (VAE) and convolutional neural networks (CNN), to directly connect two groups of images. We test our framework on images from a neuron science experiment. Results show that the proposed …\n"
     ]
    },
    {
     "name": "stdout",
     "output_type": "stream",
     "text": [
      "- Decision of GPT-Written: 1, Probability: GPT: 3.5660%, Human: 96.4340%.\n",
      "- Decision of GPT-Completed: 0, Probability: GPT: 96.8598%, Human: 3.1402%.\n",
      "- Decision of GPT-Polished: 0, Probability: GPT: 61.9930%, Human: 38.0070%.\n",
      "- Decision of GPT-Generated (any kind): 0, Probability: GPT: 99.9970%, Human: 0.0030%.\n",
      "\n"
     ]
    },
    {
     "name": "stdin",
     "output_type": "stream",
     "text": [
      "Please input the text to be evaluated: (0 for gpt, 1 for human)\n",
      " Since the first cased of COVID-19 was identified in December 2019, a plethora of different drugs have been tested for COVID-19 treatment, making it a daunting task to keep track of the rapid growth of COVID-19 research landscape. Using the existing scientific literature search systems to develop a deeper understanding of COVID-19 related clinical experiments and results turns to be increasingly complicated. In this paper, we build a named entity recognition-based framework to extract information accurately and generate knowledge graph efficiently from a myriad of clinical test results articles. Of the tested drugs to treat COVID-19, we also develop a question answering system answers to medical questions regarding COVID-19 related symptoms using Wikipedia articles. We combine the state-of-the-art question answering model - Bidirectional Encoder Representations from Transformers (BERT), with Knowledge \n"
     ]
    },
    {
     "name": "stdout",
     "output_type": "stream",
     "text": [
      "- Decision of GPT-Written: 1, Probability: GPT: 27.4835%, Human: 72.5165%.\n",
      "- Decision of GPT-Completed: 0, Probability: GPT: 99.5764%, Human: 0.4235%.\n",
      "- Decision of GPT-Polished: 1, Probability: GPT: 49.1204%, Human: 50.8796%.\n",
      "- Decision of GPT-Generated (any kind): 0, Probability: GPT: 99.9982%, Human: 0.0018%.\n",
      "\n"
     ]
    },
    {
     "name": "stdin",
     "output_type": "stream",
     "text": [
      "Please input the text to be evaluated: (0 for gpt, 1 for human)\n",
      " The prefrontal cortical (PFC) circuit plays a central role in processing social information. PFC dysfunction has been demonstrated in many autism-associated disorders, including Rett syndrome (RTT), which is caused by loss-of-function mutations in the X-linked gene MECP2. The prelimbic PFC is hypoactive in RTT, but the precise mechanisms underlying the social avoidance remain obscure. Here we studied MeCP2-deficient mice, using in vivo calcium imaging to record neuronal activities in the prelimbic medial PFC (mPFC) while mice chose whether to interact with an object or a fellow mouse. We found that prelimbic mPFC hypoactivity restricts the responsiveness of the circuit and limits its ability to decorrelate patterns encoding social and nonsocial stimuli. Optogenetic stimulation of the prelimbic circuit throughout the social interaction restored pattern discrimination and social interactivity. This work shows that what appears to be social avoidance is actually an inability to discriminate social from nonsocial cues.\n"
     ]
    },
    {
     "name": "stdout",
     "output_type": "stream",
     "text": [
      "- Decision of GPT-Written: 1, Probability: GPT: 3.1035%, Human: 96.8965%.\n",
      "- Decision of GPT-Completed: 0, Probability: GPT: 88.9721%, Human: 11.0279%.\n",
      "- Decision of GPT-Polished: 0, Probability: GPT: 70.9745%, Human: 29.0255%.\n",
      "- Decision of GPT-Generated (any kind): 0, Probability: GPT: 99.9993%, Human: 0.0007%.\n",
      "\n"
     ]
    },
    {
     "name": "stdin",
     "output_type": "stream",
     "text": [
      "Please input the text to be evaluated: (0 for gpt, 1 for human)\n",
      " Deep Neural Networks (DNNs) have achieved tremendous success in various tasks. However, DNNs expose uncertainty and unreliability against well-designed adversarial examples, thus leading to misclassification. Accordingly, a collection of methods have been proposed to improve the robustness of DNNs by detecting adversarial attacks. In this paper, we combine model explanation techniques and adversarial models, aiming to improve adversarial detection in real-world scenarios. Specifically, we develop a novel adversary-resistant detection framework called EXPLAINER by utilizing the interpretation results extracted from explainable learning models. The explanation model in EXPLAINER produces an explanation map identifying the relevance of input variables in the model’s classification result. consequently, the adversarial example can be effectively detected by comparing the explanation results of a given sample and its denoised version, without referring to any prior knowledge of attacks. The proposed framework is thoroughly evaluated on different adversarial attacks. The experimental results show that the proposed approach achieves promising results in white-box attacks.\n"
     ]
    },
    {
     "name": "stdout",
     "output_type": "stream",
     "text": [
      "- Decision of GPT-Written: 1, Probability: GPT: 9.4826%, Human: 90.5174%.\n",
      "- Decision of GPT-Completed: 0, Probability: GPT: 99.5841%, Human: 0.4159%.\n",
      "- Decision of GPT-Polished: 1, Probability: GPT: 46.7690%, Human: 53.2310%.\n",
      "- Decision of GPT-Generated (any kind): 0, Probability: GPT: 99.9942%, Human: 0.0058%.\n",
      "\n"
     ]
    },
    {
     "name": "stdin",
     "output_type": "stream",
     "text": [
      "Please input the text to be evaluated: (0 for gpt, 1 for human)\n",
      " The medial prefrontal cortex (mPFC) plays a pivotal role in orchestrating complex social behaviors, yet the neural mechanisms underlying the formation and regulation of social preferences remain elusive. In this research paper, we investigate the role of pattern decorrelation within the mPFC and its dependence on the methyl-CpG-binding protein 2 (MeCP2) in shaping social preference in mice.\n"
     ]
    },
    {
     "name": "stdout",
     "output_type": "stream",
     "text": [
      "- Decision of GPT-Written: 0, Probability: GPT: 65.9842%, Human: 34.0158%.\n",
      "- Decision of GPT-Completed: 1, Probability: GPT: 12.5716%, Human: 87.4284%.\n",
      "- Decision of GPT-Polished: 0, Probability: GPT: 90.0649%, Human: 9.9351%.\n",
      "- Decision of GPT-Generated (any kind): 0, Probability: GPT: 99.9755%, Human: 0.0245%.\n",
      "\n"
     ]
    },
    {
     "name": "stdin",
     "output_type": "stream",
     "text": [
      "Please input the text to be evaluated: (0 for gpt, 1 for human)\n",
      " The medial prefrontal cortex (mPFC) is a critical brain region involved in social cognition and decision-making. Social preference, the propensity to interact with conspecifics over non-social stimuli, is a fundamental aspect of social behavior. However, the neuronal mechanisms underlying social preference within the mPFC remain poorly understood. In this research paper, we investigate the role of pattern decorrelation, a process by which neuronal ensembles become less similar during social interactions, in shaping social preference, and its dependence on the methyl-CpG-binding protein 2 (MeCP2) in a mouse model.\n"
     ]
    },
    {
     "name": "stdout",
     "output_type": "stream",
     "text": [
      "- Decision of GPT-Written: 1, Probability: GPT: 48.3022%, Human: 51.6978%.\n",
      "- Decision of GPT-Completed: 0, Probability: GPT: 94.3417%, Human: 5.6583%.\n",
      "- Decision of GPT-Polished: 1, Probability: GPT: 22.8496%, Human: 77.1504%.\n",
      "- Decision of GPT-Generated (any kind): 0, Probability: GPT: 99.9695%, Human: 0.0305%.\n",
      "\n"
     ]
    },
    {
     "name": "stdin",
     "output_type": "stream",
     "text": [
      "Please input the text to be evaluated: (0 for gpt, 1 for human)\n",
      " Using a combination of electrophysiological recordings, behavioral assays, and molecular techniques, we demonstrate that pattern decorrelation occurs within the mPFC during social interactions. Specifically, we find that as mice engage in social behaviors, neural activity patterns become less correlated among individuals, suggesting a potential neural mechanism for the encoding of distinct social preferences.\n"
     ]
    },
    {
     "name": "stdout",
     "output_type": "stream",
     "text": [
      "- Decision of GPT-Written: 0, Probability: GPT: 68.9717%, Human: 31.0283%.\n",
      "- Decision of GPT-Completed: 1, Probability: GPT: 3.2536%, Human: 96.7464%.\n",
      "- Decision of GPT-Polished: 1, Probability: GPT: 13.2679%, Human: 86.7321%.\n",
      "- Decision of GPT-Generated (any kind): 0, Probability: GPT: 99.9693%, Human: 0.0307%.\n",
      "\n"
     ]
    },
    {
     "name": "stdin",
     "output_type": "stream",
     "text": [
      "Please input the text to be evaluated: (0 for gpt, 1 for human)\n",
      " The acquisition of complex motor skills relies on the dynamic reorganization of neural circuits within the cerebral cortex. The methyl-CpG-binding protein 2 (MeCP2) is a crucial epigenetic regulator associated with Rett syndrome, a neurodevelopmental disorder characterized by severe motor impairments. In this research paper, we investigate the impact of MeCP2 deletion on the dynamic changes in cortical circuitry during motor skill learning, with a specific focus on layer 2/3 of the cortex.\n"
     ]
    },
    {
     "name": "stdout",
     "output_type": "stream",
     "text": [
      "- Decision of GPT-Written: 0, Probability: GPT: 52.9361%, Human: 47.0639%.\n",
      "- Decision of GPT-Completed: 0, Probability: GPT: 99.8335%, Human: 0.1665%.\n",
      "- Decision of GPT-Polished: 0, Probability: GPT: 78.8747%, Human: 21.1253%.\n",
      "- Decision of GPT-Generated (any kind): 0, Probability: GPT: 99.9916%, Human: 0.0084%.\n",
      "\n"
     ]
    },
    {
     "name": "stdin",
     "output_type": "stream",
     "text": [
      "Please input the text to be evaluated: (0 for gpt, 1 for human)\n",
      " The COVID-19 pandemic has presented an unprecedented global healthcare challenge, necessitating swift and effective collaboration among researchers, clinicians, and healthcare organizations. In this context, we introduce an innovative platform designed to facilitate and enhance COVID-19 clinical research through the utilization of knowledge graph technology. The proposed platform leverages advanced data integration techniques, semantic modeling, and interactive visualization tools to create a dynamic and comprehensive knowledge graph encompassing diverse COVID-19-related data sources.\n"
     ]
    },
    {
     "name": "stdout",
     "output_type": "stream",
     "text": [
      "- Decision of GPT-Written: 0, Probability: GPT: 70.2244%, Human: 29.7756%.\n",
      "- Decision of GPT-Completed: 0, Probability: GPT: 86.6789%, Human: 13.3211%.\n",
      "- Decision of GPT-Polished: 1, Probability: GPT: 48.4045%, Human: 51.5955%.\n",
      "- Decision of GPT-Generated (any kind): 0, Probability: GPT: 99.9908%, Human: 0.0092%.\n",
      "\n"
     ]
    },
    {
     "name": "stdin",
     "output_type": "stream",
     "text": [
      "Please input the text to be evaluated: (0 for gpt, 1 for human)\n",
      " In recent years, deep learning has revolutionized the field of computer vision, enabling remarkable progress in image analysis and understanding. This research paper introduces a novel deep learning approach designed to establish meaningful connections between two distinct groups of images, addressing a fundamental challenge in various domains such as image retrieval, content-based recommendation systems, and cross-modal analysis.\n"
     ]
    },
    {
     "name": "stdout",
     "output_type": "stream",
     "text": [
      "- Decision of GPT-Written: 0, Probability: GPT: 68.5191%, Human: 31.4809%.\n",
      "- Decision of GPT-Completed: 1, Probability: GPT: 18.9979%, Human: 81.0021%.\n",
      "- Decision of GPT-Polished: 0, Probability: GPT: 79.8007%, Human: 20.1993%.\n",
      "- Decision of GPT-Generated (any kind): 0, Probability: GPT: 99.9874%, Human: 0.0126%.\n",
      "\n"
     ]
    },
    {
     "name": "stdin",
     "output_type": "stream",
     "text": [
      "Please input the text to be evaluated: (0 for gpt, 1 for human)\n",
      " The global outbreak of COVID-19 has presented an unprecedented challenge to healthcare systems and research communities worldwide. In the quest for effective treatments and strategies to combat the virus, a wealth of information has emerged, often scattered across various sources. To facilitate efficient access and integration of this critical knowledge, we introduce a Knowledge Graph-Based Platform for COVID-19 Drugs and Symptoms (KG-COVID).\n"
     ]
    },
    {
     "name": "stdout",
     "output_type": "stream",
     "text": [
      "- Decision of GPT-Written: 0, Probability: GPT: 65.9613%, Human: 34.0387%.\n",
      "- Decision of GPT-Completed: 0, Probability: GPT: 74.7377%, Human: 25.2623%.\n",
      "- Decision of GPT-Polished: 0, Probability: GPT: 86.8510%, Human: 13.1490%.\n",
      "- Decision of GPT-Generated (any kind): 0, Probability: GPT: 99.9447%, Human: 0.0553%.\n",
      "\n"
     ]
    },
    {
     "name": "stdin",
     "output_type": "stream",
     "text": [
      "Please input the text to be evaluated: (0 for gpt, 1 for human)\n",
      " Rett syndrome, a neurodevelopmental disorder caused by mutations in the Mecp2 gene, is characterized by a wide range of cognitive and social deficits. Among these, impaired social discrimination is a prominent feature, yet the underlying neural mechanisms remain poorly understood. This research paper investigates the role of pattern decorrelation in the prelimbic circuit of the prefrontal cortex in mediating social discrimination deficits in Mecp2-deficient mice.\n"
     ]
    },
    {
     "name": "stdout",
     "output_type": "stream",
     "text": [
      "- Decision of GPT-Written: 0, Probability: GPT: 61.1745%, Human: 38.8255%.\n",
      "- Decision of GPT-Completed: 0, Probability: GPT: 93.2491%, Human: 6.7509%.\n",
      "- Decision of GPT-Polished: 1, Probability: GPT: 45.0654%, Human: 54.9346%.\n",
      "- Decision of GPT-Generated (any kind): 0, Probability: GPT: 99.9512%, Human: 0.0488%.\n",
      "\n"
     ]
    },
    {
     "name": "stdin",
     "output_type": "stream",
     "text": [
      "Please input the text to be evaluated: (0 for gpt, 1 for human)\n",
      " With the increasing use of machine learning models in critical applications, the vulnerability of these models to adversarial attacks has become a pressing concern. Adversarial attacks can manipulate model predictions by adding imperceptible perturbations to input data, potentially leading to catastrophic consequences in domains such as healthcare and autonomous vehicles. In this research paper, we propose an innovative approach to adversarial detection and robustness enhancement, termed \"Explanation-Based Adversarial Detection with Noise Reduction\" (EBADNR).\n"
     ]
    },
    {
     "name": "stdout",
     "output_type": "stream",
     "text": [
      "- Decision of GPT-Written: 1, Probability: GPT: 47.5171%, Human: 52.4829%.\n",
      "- Decision of GPT-Completed: 0, Probability: GPT: 81.5819%, Human: 18.4181%.\n",
      "- Decision of GPT-Polished: 1, Probability: GPT: 18.0399%, Human: 81.9601%.\n",
      "- Decision of GPT-Generated (any kind): 0, Probability: GPT: 99.9507%, Human: 0.0493%.\n",
      "\n"
     ]
    },
    {
     "name": "stdin",
     "output_type": "stream",
     "text": [
      "Please input the text to be evaluated: (0 for gpt, 1 for human)\n",
      " EBADNR leverages the power of model interpretability and explanation techniques to identify adversarial samples by scrutinizing the underlying decision rationale of machine learning models. By extracting feature importance and decision rationales from interpretability methods like LIME or SHAP, EBADNR creates a fingerprint of normal data behavior. When presented with input data, it compares the model's decision rationale with the expected explanation. Deviations from the expected rationale are indicative of adversarial perturbations.\n"
     ]
    },
    {
     "name": "stdout",
     "output_type": "stream",
     "text": [
      "- Decision of GPT-Written: 1, Probability: GPT: 47.5283%, Human: 52.4717%.\n",
      "- Decision of GPT-Completed: 0, Probability: GPT: 95.6903%, Human: 4.3097%.\n",
      "- Decision of GPT-Polished: 0, Probability: GPT: 79.9368%, Human: 20.0632%.\n",
      "- Decision of GPT-Generated (any kind): 0, Probability: GPT: 99.8963%, Human: 0.1037%.\n",
      "\n"
     ]
    },
    {
     "name": "stdin",
     "output_type": "stream",
     "text": [
      "Please input the text to be evaluated: (0 for gpt, 1 for human)\n",
      " Adversarial attacks pose a substantial threat to the reliability and security of machine learning models, particularly in critical applications such as image classification and natural language processing. This research paper introduces a novel approach, Explanation-Based Adversarial Detection with Noise Reduction (EBAD-NR), aimed at enhancing the robustness of machine learning models against adversarial attacks.\n"
     ]
    },
    {
     "name": "stdout",
     "output_type": "stream",
     "text": [
      "- Decision of GPT-Written: 0, Probability: GPT: 73.7338%, Human: 26.2662%.\n",
      "- Decision of GPT-Completed: 0, Probability: GPT: 96.9953%, Human: 3.0047%.\n",
      "- Decision of GPT-Polished: 0, Probability: GPT: 81.8635%, Human: 18.1365%.\n",
      "- Decision of GPT-Generated (any kind): 0, Probability: GPT: 99.9628%, Human: 0.0372%.\n",
      "\n"
     ]
    }
   ],
   "source": [
    "import torch\n",
    "from transformers import BertModel,BertConfig,BertTokenizer,BertPreTrainedModel,AutoTokenizer,AutoModel\n",
    "import torch.nn.functional as F\n",
    "from model import AttenLSTM\n",
    "\n",
    "bio_bert_model = AutoModel.from_pretrained('dmis-lab/biobert-large-cased-v1.1-squad')\n",
    "\n",
    "class CustomBioBertForPipeline(BertPreTrainedModel):\n",
    "    def __init__(self, config, device=\"gpu\"):\n",
    "        super().__init__(config)\n",
    "        #self.bio_bert = bio_bert_model\n",
    "        self.bio_bert = BertModel(config)\n",
    "        self.classifier = AttenLSTM(input_size=1024, hidden_size=256, batch_first=True, dropout=0.5, bidirectional=True,\n",
    "                              num_layers=2, device=device)\n",
    "\n",
    "    def forward(self, input_ids, attention_mask=None, token_type_ids=None, position_ids=None, head_mask=None,\n",
    "                inputs_embeds=None):\n",
    "        outputs = self.bio_bert(input_ids, attention_mask=attention_mask, token_type_ids=token_type_ids,\n",
    "                                   position_ids=position_ids, head_mask=head_mask, inputs_embeds=inputs_embeds)\n",
    "        features = F.pad(outputs.last_hidden_state, (0, 0, 0, 512 - outputs.last_hidden_state.size(1)))\n",
    "        logits = self.classifier(features)\n",
    "        return logits\n",
    "\n",
    "\n",
    "device_name = \"cuda\" if torch.cuda.is_available() else \"cpu\"\n",
    "device = torch.device(device_name)\n",
    "tokenizer_biobert_large = AutoTokenizer.from_pretrained('dmis-lab/biobert-large-cased-v1.1-squad')\n",
    "config = BertConfig.from_pretrained(\"dmis-lab/biobert-large-cased-v1.1-squad\", num_labels=2)\n",
    "model = CustomBioBertForPipeline.from_pretrained(\"dmis-lab/biobert-large-cased-v1.1-squad\", config=config, device=device_name).to(device)\n",
    "model.eval()\n",
    "\n",
    "\n",
    "def eval_one(model, input):\n",
    "    item = input.replace(\"\\n\", \" \").replace(\"  \", \" \").strip()\n",
    "    tokens = tokenizer_biobert_large.encode(item)\n",
    "    if len(tokens) > 512:\n",
    "        tokens = tokens[:512]\n",
    "        print(\"!!!Input too long. Truncated to first 512 tokens.\")\n",
    "    outputs = model(torch.tensor(tokens).unsqueeze(0).to(device))\n",
    "    pred = torch.max(outputs.data, 1)[1]\n",
    "    (gpt_prob, hum_prob) = F.softmax(outputs.data, dim=1)[0]\n",
    "    return pred[0].data, 100 * gpt_prob, 100 * hum_prob\n",
    "\n",
    "try:\n",
    "    while True:\n",
    "        a = input(\"Please input the text to be evaluated: (0 for gpt, 1 for human)\\n\")\n",
    "        if a == \"exit\":\n",
    "            raise KeyboardInterrupt\n",
    "        model.classifier.load_state_dict(torch.load(\"../Pretrained/Unified_Task1.pth\", map_location=device))\n",
    "        print(\"- Decision of GPT-Written: {}, Probability: GPT: {:.4f}%, Human: {:.4f}%.\".format(*eval_one(model, a)))\n",
    "        model.classifier.load_state_dict(torch.load(\"../Pretrained/Unified_Task2.pth\", map_location=device))\n",
    "        print(\"- Decision of GPT-Completed: {}, Probability: GPT: {:.4f}%, Human: {:.4f}%.\".format(*eval_one(model, a)))\n",
    "        model.classifier.load_state_dict(torch.load(\"../Pretrained/Unified_Task3.pth\", map_location=device))\n",
    "        print(\"- Decision of GPT-Polished: {}, Probability: GPT: {:.4f}%, Human: {:.4f}%.\".format(*eval_one(model, a)))\n",
    "        model.classifier.load_state_dict(torch.load(\"../Pretrained/Unified_Task123.pth\", map_location=device))\n",
    "        print(\"- Decision of GPT-Generated (any kind): {}, Probability: GPT: {:.4f}%, Human: {:.4f}%.\\n\".format(*eval_one(model, a)))\n",
    "except KeyboardInterrupt:\n",
    "    exit()\n"
   ]
  }
 ],
 "metadata": {
  "kernelspec": {
   "display_name": "Python 3 (ipykernel)",
   "language": "python",
   "name": "python3"
  },
  "language_info": {
   "codemirror_mode": {
    "name": "ipython",
    "version": 3
   },
   "file_extension": ".py",
   "mimetype": "text/x-python",
   "name": "python",
   "nbconvert_exporter": "python",
   "pygments_lexer": "ipython3",
   "version": "3.10.13"
  }
 },
 "nbformat": 4,
 "nbformat_minor": 5
}
